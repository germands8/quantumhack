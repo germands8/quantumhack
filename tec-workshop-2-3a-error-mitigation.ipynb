{
 "cells": [
  {
   "cell_type": "markdown",
   "metadata": {},
   "source": [
    "# Qiskit Workshop: Error Mitigation and Suppression\n",
    "\n",
    "Error mitigation and suppression are techniques to improve the results from calculations on a quantum computer with noise and errors. The Qiskit Runtime primitives, `Estimator` and `Sampler` have several mitigation and suppression algorithms built-in that can be activated with a simple option."
   ]
  },
  {
   "cell_type": "code",
   "execution_count": 1,
   "metadata": {},
   "outputs": [],
   "source": [
    "# Importing standard Qiskit libraries\n",
    "from qiskit import QuantumCircuit, transpile\n",
    "from qiskit.tools.jupyter import *\n",
    "from qiskit.visualization import *\n",
    "\n",
    "from qiskit_ibm_runtime import QiskitRuntimeService, Session, Estimator, Options\n",
    "\n",
    "import numpy as np"
   ]
  },
  {
   "cell_type": "markdown",
   "metadata": {},
   "source": [
    "For this example, we will be using the the VQE algorithm and `Estimator` primitive to compute the expectation value of a given Hamiltonian operator.\n",
    "\n",
    "First, define the Hamiltonian operator that encodes our problem to solve."
   ]
  },
  {
   "cell_type": "code",
   "execution_count": 2,
   "metadata": {},
   "outputs": [],
   "source": [
    "from qiskit.quantum_info import SparsePauliOp\n",
    "\n",
    "hamiltonian = SparsePauliOp.from_list(\n",
    "    [(\"YZ\", 0.3980), (\"ZI\", -0.3980), (\"ZZ\", -0.0113), (\"XX\", 0.1810)]\n",
    ")"
   ]
  },
  {
   "cell_type": "markdown",
   "metadata": {},
   "source": [
    "Instantiate the Qiskit Runtime. We'll use the QASM simulator on the IBM Quantum Platform."
   ]
  },
  {
   "cell_type": "code",
   "execution_count": 3,
   "metadata": {},
   "outputs": [],
   "source": [
    "service = QiskitRuntimeService(channel='ibm_quantum')\n",
    "backend = service.get_backend('ibmq_qasm_simulator')"
   ]
  },
  {
   "cell_type": "markdown",
   "metadata": {},
   "source": [
    "The simulator can be programmed to emulate the noise characteristics of a real quantum computer. In this case, we will use the noise model from the `ibmq_belem` computer."
   ]
  },
  {
   "cell_type": "code",
   "execution_count": 4,
   "metadata": {},
   "outputs": [],
   "source": [
    "from qiskit.providers.fake_provider import FakeBelem\n",
    "from qiskit_aer.noise import NoiseModel\n",
    "\n",
    "fake_noisy_backend = FakeBelem()\n",
    "noise_model = NoiseModel.from_backend(fake_noisy_backend)"
   ]
  },
  {
   "cell_type": "markdown",
   "metadata": {},
   "source": [
    "The noise model is applied to the Qiskit Runtime `Options` object.\n",
    "\n",
    "We can also set two parameters that control the level of error mitigation and suppression:\n",
    "\n",
    "- `options.optimization_level`: controls the suppression techniques used. `0` means no suppression.\n",
    "- `options.resiliance_level`: controls the mitigation techniques used. `0` means no mitigation."
   ]
  },
  {
   "cell_type": "code",
   "execution_count": 5,
   "metadata": {},
   "outputs": [],
   "source": [
    "from qiskit_ibm_runtime import Options\n",
    "\n",
    "options = Options()\n",
    "options.simulator = {\n",
    "    \"noise_model\": noise_model,\n",
    "    \"basis_gates\": fake_noisy_backend.configuration().basis_gates,\n",
    "    \"coupling_map\": fake_noisy_backend.configuration().coupling_map,\n",
    "    \"seed_simulator\": 42\n",
    "}\n",
    "\n",
    "options.execution.shots = 1024\n",
    "options.optimization_level = 0\n",
    "options.resiliance_level = 0"
   ]
  },
  {
   "cell_type": "markdown",
   "metadata": {},
   "source": [
    "Create an ansatz circuit to generate the trial ground state"
   ]
  },
  {
   "cell_type": "code",
   "execution_count": 41,
   "metadata": {},
   "outputs": [
    {
     "data": {
      "image/png": "[encoded data removed]",
      "text/plain": [
       "<Figure size 808.852x144.48 with 1 Axes>"
      ]
     },
     "execution_count": 41,
     "metadata": {},
     "output_type": "execute_result"
    }
   ],
   "source": [
    "from qiskit.circuit.library import EfficientSU2\n",
    "\n",
    "ansatz = EfficientSU2(num_qubits=hamiltonian.num_qubits, reps=4, skip_final_rotation_layer=True, entanglement='linear')\n",
    "ansatz.decompose().draw()"
   ]
  },
  {
   "cell_type": "code",
   "execution_count": 42,
   "metadata": {},
   "outputs": [],
   "source": [
    "# Randomly initialize the circuit parameters\n",
    "\n",
    "x0 = 2 * np.pi * np.random.random(ansatz.num_parameters)"
   ]
  },
  {
   "cell_type": "markdown",
   "metadata": {},
   "source": [
    "Define a cost function to evaluate in the VQE loop"
   ]
  },
  {
   "cell_type": "code",
   "execution_count": 7,
   "metadata": {},
   "outputs": [],
   "source": [
    "def cost_func(params, ansatz, hamiltonian, estimator):\n",
    "    \"\"\"Return estimate of energy from estimator\n",
    "\n",
    "    Parameters:\n",
    "        params (ndarray): Array of ansatz parameters\n",
    "        ansatz (QuantumCircuit): Parameterized ansatz circuit\n",
    "        hamiltonian (SparsePauliOp): Operator representation of Hamiltonian\n",
    "        estimator (Estimator): Estimator primitive instance\n",
    "\n",
    "    Returns:\n",
    "        float: Energy estimate\n",
    "    \"\"\"\n",
    "    energy = estimator.run(ansatz, hamiltonian, parameter_values=params).result().values[0]\n",
    "    return energy"
   ]
  },
  {
   "cell_type": "markdown",
   "metadata": {},
   "source": [
    "Create a callback function to print out progress of the VQE loop and to record each iteration"
   ]
  },
  {
   "cell_type": "code",
   "execution_count": 8,
   "metadata": {},
   "outputs": [],
   "source": [
    "def build_callback(ansatz, hamiltonian, estimator, callback_dict):\n",
    "    \"\"\"Return callback function that uses Estimator instance,\n",
    "    and stores intermediate values into a dictionary.\n",
    "\n",
    "    Parameters:\n",
    "        ansatz (QuantumCircuit): Parameterized ansatz circuit\n",
    "        hamiltonian (SparsePauliOp): Operator representation of Hamiltonian\n",
    "        estimator (Estimator): Estimator primitive instance\n",
    "        callback_dict (dict): Mutable dict for storing values\n",
    "\n",
    "    Returns:\n",
    "        Callable: Callback function object\n",
    "    \"\"\"\n",
    "\n",
    "    def callback(current_vector):\n",
    "        # Keep track of the number of iterations\n",
    "        callback_dict[\"iters\"] += 1\n",
    "        # Set the prev_vector to the latest one\n",
    "        callback_dict[\"prev_vector\"] = current_vector\n",
    "        # Compute the value of the cost function at the current vector\n",
    "        value = estimator.run(ansatz, hamiltonian, parameter_values=current_vector).result().values[0]\n",
    "        callback_dict[\"cost_history\"].append(value)\n",
    "        # Print to screen on single line\n",
    "        print(\n",
    "            \"Iters. done: {} [value: {}]\".format(callback_dict[\"iters\"], value),\n",
    "            end=\"\\r\",\n",
    "            flush=True\n",
    "        )\n",
    "\n",
    "    return callback"
   ]
  },
  {
   "cell_type": "markdown",
   "metadata": {},
   "source": [
    "## No Error Suppression or Mitigation"
   ]
  },
  {
   "cell_type": "markdown",
   "metadata": {},
   "source": [
    "First, set up the callback function data structure"
   ]
  },
  {
   "cell_type": "code",
   "execution_count": 45,
   "metadata": {},
   "outputs": [],
   "source": [
    "callback_dict = {\n",
    "    \"prev_vector\": None,\n",
    "    \"iters\": 0,\n",
    "    \"cost_history\": []\n",
    "}"
   ]
  },
  {
   "cell_type": "markdown",
   "metadata": {},
   "source": [
    "Now run the VQE algorithm by leveraging the `scipy.optimize` library."
   ]
  },
  {
   "cell_type": "code",
   "execution_count": 46,
   "metadata": {},
   "outputs": [
    {
     "name": "stdout",
     "output_type": "stream",
     "text": [
      " message: Optimization terminated successfully.\n",
      " success: True\n",
      "  status: 1\n",
      "     fun: -0.593571007824909\n",
      "       x: [ 6.881e+00  5.992e+00 ...  6.703e+00  8.310e-01]\n",
      "    nfev: 161\n",
      "   maxcv: 0.0\n"
     ]
    }
   ],
   "source": [
    "# No error mititgation or suppression\n",
    "\n",
    "from scipy.optimize import minimize\n",
    "\n",
    "with Session(service=service, backend=\"ibmq_qasm_simulator\") as session:\n",
    "    estimator = Estimator(session=session, options=options)\n",
    "    callback = build_callback(ansatz, hamiltonian, estimator, callback_dict)\n",
    "    result = minimize(cost_func, x0,  args=(ansatz, hamiltonian, estimator), method=\"cobyla\", options={\"maxiter\": 300}, callback=callback)\n",
    "\n",
    "print(result)"
   ]
  },
  {
   "cell_type": "markdown",
   "metadata": {},
   "source": [
    "## Use Error Mitigation and Suppression"
   ]
  },
  {
   "cell_type": "markdown",
   "metadata": {},
   "source": [
    "Create a new data structure for the error mitigated results"
   ]
  },
  {
   "cell_type": "code",
   "execution_count": 47,
   "metadata": {},
   "outputs": [],
   "source": [
    "callback_dict_mitigated = {\n",
    "    \"prev_vector\": None,\n",
    "    \"iters\": 0,\n",
    "    \"cost_history\": []\n",
    "}"
   ]
  },
  {
   "cell_type": "markdown",
   "metadata": {},
   "source": [
    "Now turn on error mitigation and suppression in the `Estimator` primitive via the `Options` object.\n",
    "\n",
    "`optimization_level=3` is the highest suppression level, which implements dynamic decoupling.\n",
    "\n",
    "`resiliance_level=2` implements the Zero-noise extrapolation method and the T-REx readout error mitigation method."
   ]
  },
  {
   "cell_type": "code",
   "execution_count": 48,
   "metadata": {},
   "outputs": [
    {
     "name": "stdout",
     "output_type": "stream",
     "text": [
      " message: Optimization terminated successfully.\n",
      " success: True\n",
      "  status: 1\n",
      "     fun: -0.6367600150154892\n",
      "       x: [ 5.594e+00  6.789e+00 ...  6.121e+00  1.039e+00]\n",
      "    nfev: 151\n",
      "   maxcv: 0.0\n"
     ]
    }
   ],
   "source": [
    "# With error mitigation and suppression\n",
    "\n",
    "# Use Dynamic Decoupling\n",
    "options.optimization_level = 3\n",
    "\n",
    "# Use Zero-noise extrapolation and T-REx\n",
    "options.resiliance_level = 2\n",
    "\n",
    "with Session(service=service, backend=\"ibmq_qasm_simulator\") as session:\n",
    "    estimator = Estimator(session=session, options=options)\n",
    "    callback = build_callback(ansatz, hamiltonian, estimator, callback_dict_mitigated)\n",
    "    result_mit = minimize(cost_func, x0,  args=(ansatz, hamiltonian, estimator), method=\"cobyla\", options={\"maxiter\": 300}, callback=callback)\n",
    "\n",
    "print(result_mit)"
   ]
  },
  {
   "cell_type": "markdown",
   "metadata": {},
   "source": [
    "### Calculate in simulator as reference"
   ]
  },
  {
   "cell_type": "code",
   "execution_count": 43,
   "metadata": {},
   "outputs": [],
   "source": [
    "callback_dict_sim = {\n",
    "    \"prev_vector\": None,\n",
    "    \"iters\": 0,\n",
    "    \"cost_history\": []\n",
    "}"
   ]
  },
  {
   "cell_type": "code",
   "execution_count": 44,
   "metadata": {},
   "outputs": [
    {
     "name": "stdout",
     "output_type": "stream",
     "text": [
      "Iters. done: 4 [value: 0.102619043614988]7]\r"
     ]
    },
    {
     "name": "stdout",
     "output_type": "stream",
     "text": [
      " message: Optimization terminated successfully.\n",
      " success: True\n",
      "  status: 1\n",
      "     fun: -0.702930384683139\n",
      "       x: [ 6.862e+00  5.888e+00 ...  6.425e+00  9.947e-01]\n",
      "    nfev: 288\n",
      "   maxcv: 0.0\n"
     ]
    }
   ],
   "source": [
    "from qiskit.primitives import Estimator as EstimatorSim\n",
    "\n",
    "estimator_sim = EstimatorSim()\n",
    "callback = build_callback(ansatz, hamiltonian, estimator_sim, callback_dict_sim)\n",
    "result_sim = minimize(cost_func, x0,  args=(ansatz, hamiltonian, estimator_sim), method=\"cobyla\", options={\"maxiter\": 500}, callback=callback)\n",
    "print(result_sim)"
   ]
  },
  {
   "cell_type": "markdown",
   "metadata": {},
   "source": [
    "Let's see how the results from each of the different runs compare on the convergence graph."
   ]
  },
  {
   "cell_type": "code",
   "execution_count": 61,
   "metadata": {},
   "outputs": [
    {
     "data": {
      "text/plain": [
       "<matplotlib.legend.Legend at 0x7fdaed23ea30>"
      ]
     },
     "execution_count": 61,
     "metadata": {},
     "output_type": "execute_result"
    },
    {
     "data": {
      "image/png": "[encoded data removed]",
      "text/plain": [
       "<Figure size 432x288 with 1 Axes>"
      ]
     },
     "metadata": {
      "needs_background": "light"
     },
     "output_type": "display_data"
    }
   ],
   "source": [
    "# Plot convergence of error mitigtation/suppression vs. no error mitgation/suppression\n",
    "\n",
    "import matplotlib.pyplot as plt\n",
    "\n",
    "plt.plot(callback_dict['cost_history'])\n",
    "plt.plot(callback_dict_mitigated['cost_history'])\n",
    "plt.plot(callback_dict_sim['cost_history'], linestyle='dashed')\n",
    "plt.xlim(0, 160)\n",
    "plt.xlabel(\"Iteration\")\n",
    "plt.ylabel('Cost')\n",
    "plt.legend(['no mitigation', 'mitigated', 'simulator'])\n"
   ]
  },
  {
   "cell_type": "code",
   "execution_count": 1,
   "metadata": {},
   "outputs": [
    {
     "data": {
      "text/html": [
       "<h3>Version Information</h3><table><tr><th>Software</th><th>Version</th></tr><tr><td><code>qiskit</code></td><td>0.44.1</td></tr><tr><td><code>qiskit-terra</code></td><td>0.25.1</td></tr><tr><th colspan='2'>System information</th></tr><tr><td>Python version</td><td>3.9.7</td></tr><tr><td>Python compiler</td><td>GCC 9.4.0</td></tr><tr><td>Python build</td><td>default, Sep 14 2021 01:17:55</td></tr><tr><td>OS</td><td>Linux</td></tr><tr><td>CPUs</td><td>6</td></tr><tr><td>Memory (Gb)</td><td>31.04016876220703</td></tr><tr><td colspan='2'>Wed Sep 06 14:37:00 2023 EDT</td></tr></table>"
      ],
      "text/plain": [
       "<IPython.core.display.HTML object>"
      ]
     },
     "metadata": {},
     "output_type": "display_data"
    }
   ],
   "source": [
    "import qiskit.tools.jupyter\n",
    "%qiskit_version_table"
   ]
  },
  {
   "cell_type": "code",
   "execution_count": null,
   "metadata": {},
   "outputs": [],
   "source": []
  }
 ],
 "metadata": {
  "kernelspec": {
   "display_name": "qiskit",
   "language": "python",
   "name": "python3"
  },
  "language_info": {
   "codemirror_mode": {
    "name": "ipython",
    "version": 3
   },
   "file_extension": ".py",
   "mimetype": "text/x-python",
   "name": "python",
   "nbconvert_exporter": "python",
   "pygments_lexer": "ipython3",
   "version": "3.9.7"
  },
  "orig_nbformat": 4
 },
 "nbformat": 4,
 "nbformat_minor": 2
}
