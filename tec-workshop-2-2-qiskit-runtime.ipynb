{
 "cells": [
  {
   "cell_type": "markdown",
   "id": "b47c8bdc-38aa-4d69-bb86-c423adb4e18b",
   "metadata": {},
   "source": [
    "# Qiskit Workshop: Qiskit Runtime and Primitive Programs"
   ]
  },
  {
   "cell_type": "code",
   "execution_count": 27,
   "id": "8eb2fc7e-92fc-4426-859c-176444741c11",
   "metadata": {
    "tags": []
   },
   "outputs": [],
   "source": [
    "# Importing standard Qiskit libraries\n",
    "from qiskit import QuantumCircuit, transpile\n",
    "from qiskit.tools.jupyter import *\n",
    "from qiskit.visualization import *\n",
    "\n",
    "import numpy as np"
   ]
  },
  {
   "cell_type": "markdown",
   "id": "ecf4166a-a5cc-4922-a65b-9648fde70813",
   "metadata": {},
   "source": [
    "## Using Qiskit Runtime locally"
   ]
  },
  {
   "cell_type": "code",
   "execution_count": 28,
   "id": "d0183127-5a39-47dc-9ff3-c9426852be09",
   "metadata": {},
   "outputs": [
    {
     "name": "stdout",
     "output_type": "stream",
     "text": [
      "Requirement already satisfied: qiskit-ibm-runtime in /home/wagnerse/.conda/envs/qiskit/lib/python3.9/site-packages (0.12.0)\n",
      "Requirement already satisfied: requests-ntlm>=1.1.0 in /home/wagnerse/.conda/envs/qiskit/lib/python3.9/site-packages (from qiskit-ibm-runtime) (1.1.0)\n",
      "Requirement already satisfied: websocket-client>=1.5.1 in /home/wagnerse/.conda/envs/qiskit/lib/python3.9/site-packages (from qiskit-ibm-runtime) (1.5.1)\n",
      "Requirement already satisfied: numpy>=1.13 in /home/wagnerse/.conda/envs/qiskit/lib/python3.9/site-packages (from qiskit-ibm-runtime) (1.25.2)\n",
      "Requirement already satisfied: qiskit>=0.44.1 in /home/wagnerse/.conda/envs/qiskit/lib/python3.9/site-packages (from qiskit-ibm-runtime) (0.44.1)\n",
      "Requirement already satisfied: requests>=2.19 in /home/wagnerse/.conda/envs/qiskit/lib/python3.9/site-packages (from qiskit-ibm-runtime) (2.26.0)\n",
      "Requirement already satisfied: python-dateutil>=2.8.0 in /home/wagnerse/.conda/envs/qiskit/lib/python3.9/site-packages (from qiskit-ibm-runtime) (2.8.2)\n",
      "Requirement already satisfied: ibm-platform-services>=0.22.6 in /home/wagnerse/.conda/envs/qiskit/lib/python3.9/site-packages (from qiskit-ibm-runtime) (0.24.0)\n",
      "Requirement already satisfied: urllib3>=1.21.1 in /home/wagnerse/.conda/envs/qiskit/lib/python3.9/site-packages (from qiskit-ibm-runtime) (1.26.6)\n",
      "Requirement already satisfied: qiskit-ibm-provider>=0.7.0 in /home/wagnerse/.conda/envs/qiskit/lib/python3.9/site-packages (from qiskit-ibm-runtime) (0.7.0)\n",
      "Requirement already satisfied: ibm-cloud-sdk-core<4.0.0,>=3.15.1 in /home/wagnerse/.conda/envs/qiskit/lib/python3.9/site-packages (from ibm-platform-services>=0.22.6->qiskit-ibm-runtime) (3.15.1)\n",
      "Requirement already satisfied: PyJWT<3.0.0,>=2.0.1 in /home/wagnerse/.conda/envs/qiskit/lib/python3.9/site-packages (from ibm-cloud-sdk-core<4.0.0,>=3.15.1->ibm-platform-services>=0.22.6->qiskit-ibm-runtime) (2.3.0)\n",
      "Requirement already satisfied: six>=1.5 in /home/wagnerse/.conda/envs/qiskit/lib/python3.9/site-packages (from python-dateutil>=2.8.0->qiskit-ibm-runtime) (1.16.0)\n",
      "Requirement already satisfied: qiskit-terra==0.25.1 in /home/wagnerse/.conda/envs/qiskit/lib/python3.9/site-packages (from qiskit>=0.44.1->qiskit-ibm-runtime) (0.25.1)\n",
      "Requirement already satisfied: ply>=3.10 in /home/wagnerse/.conda/envs/qiskit/lib/python3.9/site-packages (from qiskit-terra==0.25.1->qiskit>=0.44.1->qiskit-ibm-runtime) (3.11)\n",
      "Requirement already satisfied: rustworkx>=0.13.0 in /home/wagnerse/.conda/envs/qiskit/lib/python3.9/site-packages (from qiskit-terra==0.25.1->qiskit>=0.44.1->qiskit-ibm-runtime) (0.13.1)\n",
      "Requirement already satisfied: dill>=0.3 in /home/wagnerse/.conda/envs/qiskit/lib/python3.9/site-packages (from qiskit-terra==0.25.1->qiskit>=0.44.1->qiskit-ibm-runtime) (0.3.4)\n",
      "Requirement already satisfied: psutil>=5 in /home/wagnerse/.conda/envs/qiskit/lib/python3.9/site-packages (from qiskit-terra==0.25.1->qiskit>=0.44.1->qiskit-ibm-runtime) (5.8.0)\n",
      "Requirement already satisfied: sympy>=1.3 in /home/wagnerse/.conda/envs/qiskit/lib/python3.9/site-packages (from qiskit-terra==0.25.1->qiskit>=0.44.1->qiskit-ibm-runtime) (1.8)\n",
      "Requirement already satisfied: symengine<0.10,>=0.9 in /home/wagnerse/.conda/envs/qiskit/lib/python3.9/site-packages (from qiskit-terra==0.25.1->qiskit>=0.44.1->qiskit-ibm-runtime) (0.9.2)\n",
      "Requirement already satisfied: stevedore>=3.0.0 in /home/wagnerse/.conda/envs/qiskit/lib/python3.9/site-packages (from qiskit-terra==0.25.1->qiskit>=0.44.1->qiskit-ibm-runtime) (3.5.0)\n",
      "Requirement already satisfied: scipy>=1.5 in /home/wagnerse/.conda/envs/qiskit/lib/python3.9/site-packages (from qiskit-terra==0.25.1->qiskit>=0.44.1->qiskit-ibm-runtime) (1.11.2)\n",
      "Requirement already satisfied: typing-extensions in /home/wagnerse/.conda/envs/qiskit/lib/python3.9/site-packages (from qiskit-terra==0.25.1->qiskit>=0.44.1->qiskit-ibm-runtime) (4.5.0)\n",
      "Requirement already satisfied: websockets>=10.0 in /home/wagnerse/.conda/envs/qiskit/lib/python3.9/site-packages (from qiskit-ibm-provider>=0.7.0->qiskit-ibm-runtime) (10.2)\n",
      "Requirement already satisfied: charset-normalizer~=2.0.0 in /home/wagnerse/.conda/envs/qiskit/lib/python3.9/site-packages (from requests>=2.19->qiskit-ibm-runtime) (2.0.0)\n",
      "Requirement already satisfied: certifi>=2017.4.17 in /home/wagnerse/.conda/envs/qiskit/lib/python3.9/site-packages (from requests>=2.19->qiskit-ibm-runtime) (2022.6.15)\n",
      "Requirement already satisfied: idna<4,>=2.5 in /home/wagnerse/.conda/envs/qiskit/lib/python3.9/site-packages (from requests>=2.19->qiskit-ibm-runtime) (3.1)\n",
      "Requirement already satisfied: ntlm-auth>=1.0.2 in /home/wagnerse/.conda/envs/qiskit/lib/python3.9/site-packages (from requests-ntlm>=1.1.0->qiskit-ibm-runtime) (1.5.0)\n",
      "Requirement already satisfied: cryptography>=1.3 in /home/wagnerse/.conda/envs/qiskit/lib/python3.9/site-packages (from requests-ntlm>=1.1.0->qiskit-ibm-runtime) (3.4.7)\n",
      "Requirement already satisfied: cffi>=1.12 in /home/wagnerse/.conda/envs/qiskit/lib/python3.9/site-packages (from cryptography>=1.3->requests-ntlm>=1.1.0->qiskit-ibm-runtime) (1.14.6)\n",
      "Requirement already satisfied: pycparser in /home/wagnerse/.conda/envs/qiskit/lib/python3.9/site-packages (from cffi>=1.12->cryptography>=1.3->requests-ntlm>=1.1.0->qiskit-ibm-runtime) (2.20)\n",
      "Requirement already satisfied: pbr!=2.1.0,>=2.0.0 in /home/wagnerse/.conda/envs/qiskit/lib/python3.9/site-packages (from stevedore>=3.0.0->qiskit-terra==0.25.1->qiskit>=0.44.1->qiskit-ibm-runtime) (5.8.0)\n",
      "Requirement already satisfied: mpmath>=0.19 in /home/wagnerse/.conda/envs/qiskit/lib/python3.9/site-packages (from sympy>=1.3->qiskit-terra==0.25.1->qiskit>=0.44.1->qiskit-ibm-runtime) (1.2.1)\n"
     ]
    }
   ],
   "source": [
    "# If you are running locally, install the qiskit-ibm-runtime package\n",
    "!pip install qiskit-ibm-runtime -U"
   ]
  },
  {
   "cell_type": "code",
   "execution_count": 31,
   "id": "f7ab3861",
   "metadata": {},
   "outputs": [],
   "source": [
    "from qiskit_ibm_runtime import QiskitRuntimeService\n",
    "\n",
    "# Loading your IBM Quantum account(s)\n",
    "service = QiskitRuntimeService(channel='ibm_quantum', instance='ibm-q/open/main')"
   ]
  },
  {
   "cell_type": "code",
   "execution_count": 32,
   "id": "03307ae8-57da-41de-bd80-1975264286c5",
   "metadata": {
    "tags": []
   },
   "outputs": [],
   "source": [
    "# Save account information if you are running locally\n",
    "\n",
    "# Uncomment the following line, add your API token, and run this cell.\n",
    "# service.save_account(channel=\"ibm_quantum\", token=\"MY_IBM_QUANTUM_TOKEN\")"
   ]
  },
  {
   "cell_type": "markdown",
   "id": "9550e52d-09c8-4f35-abbd-0e5ae0a90823",
   "metadata": {},
   "source": [
    "## Service features"
   ]
  },
  {
   "cell_type": "code",
   "execution_count": 33,
   "id": "5b954a9b-5c31-4b1f-9a8f-439fa5f8aa5a",
   "metadata": {
    "tags": []
   },
   "outputs": [
    {
     "data": {
      "text/plain": [
       "[<IBMBackend('ibm_perth')>,\n",
       " <IBMBackend('ibmq_quito')>,\n",
       " <IBMBackend('ibmq_belem')>,\n",
       " <IBMBackend('simulator_mps')>,\n",
       " <IBMBackend('simulator_statevector')>,\n",
       " <IBMBackend('simulator_stabilizer')>,\n",
       " <IBMBackend('ibmq_manila')>,\n",
       " <IBMBackend('ibm_nairobi')>,\n",
       " <IBMBackend('ibmq_jakarta')>,\n",
       " <IBMBackend('ibmq_qasm_simulator')>,\n",
       " <IBMBackend('ibmq_lima')>,\n",
       " <IBMBackend('simulator_extended_stabilizer')>,\n",
       " <IBMBackend('ibm_lagos')>]"
      ]
     },
     "execution_count": 33,
     "metadata": {},
     "output_type": "execute_result"
    }
   ],
   "source": [
    "# Get available backends\n",
    "\n",
    "service.backends()"
   ]
  },
  {
   "cell_type": "code",
   "execution_count": 6,
   "id": "e020d392-0f49-4b8b-addb-2469bb155877",
   "metadata": {
    "tags": []
   },
   "outputs": [
    {
     "data": {
      "text/plain": [
       "[<RuntimeProgram('vqc-trainer-XB4wZPrKdv')>,\n",
       " <RuntimeProgram('qasm3-runner')>,\n",
       " <RuntimeProgram('sampler')>,\n",
       " <RuntimeProgram('estimator')>,\n",
       " <RuntimeProgram('circuit-runner')>]"
      ]
     },
     "execution_count": 6,
     "metadata": {},
     "output_type": "execute_result"
    }
   ],
   "source": [
    "# List available primitive and prototype programs\n",
    "\n",
    "service.programs()"
   ]
  },
  {
   "cell_type": "code",
   "execution_count": 7,
   "id": "68d5cffa-60ef-4c29-8551-49aef930d6d7",
   "metadata": {
    "tags": []
   },
   "outputs": [
    {
     "name": "stdout",
     "output_type": "stream",
     "text": [
      "sampler:\n",
      "  Name: sampler\n",
      "  Description: Generates quasi-probabilities by sampling quantum circuits.\n",
      "  Creation date: 2021-10-26T14:41:57Z\n",
      "  Update date: 2023-08-19T14:44:09.598959Z\n",
      "  Max execution time: 10000\n",
      "  Backend requirements:\n",
      "    none\n",
      "  Input parameters:\n",
      "    Properties:\n",
      "        - circuit_ids:\n",
      "            Description: A list of unique IDs of QuantumCircuits.\n",
      "            Type: array\n",
      "            Required: False\n",
      "        - circuit_indices:\n",
      "            Description: Indices of the circuits to evaluate.\n",
      "            Type: array\n",
      "            Required: True\n",
      "        - circuits:\n",
      "            Description: A single or list or dictionary of QuantumCircuits.\n",
      "            Type: ['array', 'object']\n",
      "            Required: True\n",
      "        - parameter_values:\n",
      "            Description: A list of concrete parameters to be bound for each circuit. If specified, it must have the same length as circuit_indices.\n",
      "            Type: array\n",
      "            Required: False\n",
      "        - parameters:\n",
      "            Description: Parameters of the quantum circuits.\n",
      "            Type: array\n",
      "            Required: False\n",
      "        - resilience_settings:\n",
      "            Description: Resilience settings.\n",
      "            Type: object\n",
      "            Required: False\n",
      "        - run_options:\n",
      "            Description: A collection of key-value pairs identifying the execution options. Acceptable options include: shots, qubit_lo_freq, meas_lo_freq, schedule_los, rep_delay, init_qubits, and use_measure_esp.\n",
      "            Type: object\n",
      "            Required: False\n",
      "        - skip_transpilation:\n",
      "            Default: False\n",
      "            Description: (Deprecated) Whether to skip circuit transpilation.\n",
      "            Type: boolean\n",
      "            Required: False\n",
      "        - transpilation_settings:\n",
      "            Description: Transpilation settings.\n",
      "            Type: object\n",
      "            Required: False\n",
      "  Interim results:\n",
      "    none\n",
      "  Returns:\n",
      "    Properties:\n",
      "        - metadata:\n",
      "            Description: Additional metadata.\n",
      "            Type: array\n",
      "            Required: False\n",
      "        - quasi_dists:\n",
      "            Description: List of quasi-probabilities returned for each circuit.\n",
      "            Type: array\n",
      "            Required: False\n"
     ]
    }
   ],
   "source": [
    "print(service.program('sampler'))"
   ]
  },
  {
   "cell_type": "markdown",
   "id": "8880a116-dd11-477b-9dcc-42d29679628c",
   "metadata": {},
   "source": [
    "## Running a Qiskit Runtime program\n",
    "\n",
    "Example: use the sampler primitive program"
   ]
  },
  {
   "cell_type": "code",
   "execution_count": 8,
   "id": "1b8ce6e2-c79f-4585-a372-ce1b7a900a09",
   "metadata": {
    "tags": []
   },
   "outputs": [
    {
     "data": {
      "image/png": "[encoded data removed]",
      "text/plain": [
       "<Figure size 417.879x204.68 with 1 Axes>"
      ]
     },
     "execution_count": 8,
     "metadata": {},
     "output_type": "execute_result"
    }
   ],
   "source": [
    "# Create a circuit (Bell state).\n",
    "qc = QuantumCircuit(2)\n",
    "qc.h(0)\n",
    "qc.cx(0, 1)\n",
    "qc.measure_all()\n",
    "qc.draw()"
   ]
  },
  {
   "cell_type": "code",
   "execution_count": 9,
   "id": "c0b3a186-757f-4ea0-ab2d-2b0431d753a7",
   "metadata": {
    "tags": []
   },
   "outputs": [],
   "source": [
    "# Set the \"sampler\" program parameters\n",
    "inputs = {\n",
    "    'circuit_indices': [0],\n",
    "    'circuits': qc\n",
    "}\n",
    "\n",
    "# Configure backend options\n",
    "options = {\n",
    "    'backend': \"ibmq_qasm_simulator\"\n",
    "}\n",
    "    \n",
    "job = service.run(program_id='sampler', \n",
    "                  inputs=inputs,\n",
    "                  options=options)"
   ]
  },
  {
   "cell_type": "code",
   "execution_count": 10,
   "id": "d907cc65-ccdc-4a47-987f-b50200175952",
   "metadata": {
    "tags": []
   },
   "outputs": [
    {
     "name": "stdout",
     "output_type": "stream",
     "text": [
      "SamplerResult(quasi_dists=[{0: 0.4755859375, 3: 0.5244140625}], metadata=[{'shots': 1024, 'readout_mitigation_overhead': 1.0, 'readout_mitigation_time': 0.060823815991170704}])\n"
     ]
    }
   ],
   "source": [
    "result = job.result()\n",
    "print(result)"
   ]
  },
  {
   "cell_type": "markdown",
   "id": "7e604ea5-de87-4105-b392-1c9ec7af824e",
   "metadata": {},
   "source": [
    "## A better way: Use the `Sampler` class"
   ]
  },
  {
   "cell_type": "code",
   "execution_count": 11,
   "id": "7c813b91-4fa7-42cc-aa43-916e0a76f0be",
   "metadata": {
    "tags": []
   },
   "outputs": [],
   "source": [
    "from qiskit_ibm_runtime import Sampler, Options\n",
    "\n",
    "backend = service.backend('ibmq_qasm_simulator')\n",
    "options = Options()\n",
    "options.execution.shots = 1024\n",
    "\n",
    "sampler = Sampler(session=backend, options=options)\n",
    "job = sampler.run(qc)"
   ]
  },
  {
   "cell_type": "code",
   "execution_count": 12,
   "id": "a27ccaaa-725a-4577-885c-eedc6249a72a",
   "metadata": {
    "tags": []
   },
   "outputs": [
    {
     "name": "stdout",
     "output_type": "stream",
     "text": [
      "SamplerResult(quasi_dists=[{0: 0.484375, 3: 0.515625}], metadata=[{'shots': 1024}])\n"
     ]
    }
   ],
   "source": [
    "result = job.result()\n",
    "print(result)"
   ]
  },
  {
   "cell_type": "markdown",
   "id": "3b116520-30fb-4296-9bfe-ce7a0257809a",
   "metadata": {},
   "source": [
    "## `Estimator` Primitive\n",
    "\n",
    "Purpose: compute $\\langle\\psi| O |\\psi\\rangle$\n",
    "\n",
    "where $|\\psi\\rangle$ is a quantum state, and $O$ is an operator representing an observable."
   ]
  },
  {
   "cell_type": "code",
   "execution_count": 13,
   "id": "89682cd9-029d-4830-9379-0079ffc856b3",
   "metadata": {
    "tags": []
   },
   "outputs": [
    {
     "data": {
      "image/png": "[encoded data removed]",
      "text/plain": [
       "<Figure size 387.452x144.48 with 1 Axes>"
      ]
     },
     "execution_count": 13,
     "metadata": {},
     "output_type": "execute_result"
    }
   ],
   "source": [
    "from qiskit.circuit.library import RealAmplitudes\n",
    "\n",
    "# Create test circuit that has parameterized gates\n",
    "psi1 = RealAmplitudes(num_qubits=2, reps=2)\n",
    "\n",
    "psi1.decompose().draw()"
   ]
  },
  {
   "cell_type": "code",
   "execution_count": 14,
   "id": "e81bda7b-e8d7-498f-8936-7f6540a7d7ef",
   "metadata": {
    "tags": []
   },
   "outputs": [],
   "source": [
    "# Parameter values for test circuit\n",
    "theta1 = [0, 1, 1, 2, 3, 5]"
   ]
  },
  {
   "cell_type": "code",
   "execution_count": 15,
   "id": "e61fd4a6-d6d4-447e-92f1-51b45aa4175d",
   "metadata": {
    "tags": []
   },
   "outputs": [
    {
     "name": "stdout",
     "output_type": "stream",
     "text": [
      "SparsePauliOp(['II', 'IZ', 'XI'],\n",
      "              coeffs=[1.+0.j, 2.+0.j, 3.+0.j])\n"
     ]
    }
   ],
   "source": [
    "from qiskit.quantum_info import SparsePauliOp\n",
    "\n",
    "# Create observable\n",
    "H1 = SparsePauliOp.from_list([(\"II\", 1), (\"IZ\", 2), (\"XI\", 3)])\n",
    "print(H1)"
   ]
  },
  {
   "cell_type": "code",
   "execution_count": 16,
   "id": "3a71968b-e94a-4596-8a1c-cf3b567ffe84",
   "metadata": {
    "tags": []
   },
   "outputs": [
    {
     "name": "stdout",
     "output_type": "stream",
     "text": [
      "EstimatorResult(values=array([1.51757812]), metadata=[{'variance': 9.517467498779297, 'shots': 1024}])\n"
     ]
    }
   ],
   "source": [
    "from qiskit_ibm_runtime import Estimator\n",
    "\n",
    "options = Options()\n",
    "options.execution.shots = 1024\n",
    "\n",
    "# calculate [ <psi1(theta1)|H1|psi1(theta1)> ]\n",
    "estimator = Estimator(session=backend, options=options)\n",
    "job = estimator.run(circuits=psi1,\n",
    "                    observables=H1,\n",
    "                    parameter_values=[theta1]\n",
    "                   )\n",
    "psi1_H1_result = job.result()\n",
    "print(psi1_H1_result)"
   ]
  },
  {
   "cell_type": "markdown",
   "id": "6f1c3928-9c58-4660-995f-44dd50c7a28d",
   "metadata": {
    "tags": []
   },
   "source": [
    "## Example: VQE and `Estimator` in Qiskit Runtime\n",
    "\n",
    "<img src=https://qiskit.org/documentation/nature/_images/vqe.png width=1000px>"
   ]
  },
  {
   "cell_type": "code",
   "execution_count": 17,
   "id": "6c345f8e-c006-460e-a09a-2424f068014f",
   "metadata": {
    "tags": []
   },
   "outputs": [
    {
     "data": {
      "image/png": "[encoded data removed]",
      "text/plain": [
       "<Figure size 748.652x144.48 with 1 Axes>"
      ]
     },
     "execution_count": 17,
     "metadata": {},
     "output_type": "execute_result"
    }
   ],
   "source": [
    "# Create an ansatz circuit to generate the trial ground state\n",
    "from qiskit.circuit.library import EfficientSU2\n",
    "\n",
    "ansatz = EfficientSU2(num_qubits=H1.num_qubits, entanglement='linear')\n",
    "ansatz.decompose().draw()"
   ]
  },
  {
   "cell_type": "code",
   "execution_count": 18,
   "id": "e040d1e4",
   "metadata": {},
   "outputs": [],
   "source": [
    "def cost_func(params, ansatz, hamiltonian, estimator):\n",
    "    \"\"\"Return estimate of energy from estimator\n",
    "\n",
    "    Parameters:\n",
    "        params (ndarray): Array of ansatz parameters\n",
    "        ansatz (QuantumCircuit): Parameterized ansatz circuit\n",
    "        hamiltonian (SparsePauliOp): Operator representation of Hamiltonian\n",
    "        estimator (Estimator): Estimator primitive instance\n",
    "\n",
    "    Returns:\n",
    "        float: Energy estimate\n",
    "    \"\"\"\n",
    "    energy = estimator.run(ansatz, hamiltonian, parameter_values=params).result().values[0]\n",
    "    return energy"
   ]
  },
  {
   "cell_type": "code",
   "execution_count": 22,
   "id": "5a9836d5-1afe-4332-b6e8-75333bfed9ed",
   "metadata": {
    "tags": []
   },
   "outputs": [],
   "source": [
    "def build_callback(ansatz, hamiltonian, estimator, callback_dict):\n",
    "    \"\"\"Return callback function that uses Estimator instance,\n",
    "    and stores intermediate values into a dictionary.\n",
    "\n",
    "    Parameters:\n",
    "        ansatz (QuantumCircuit): Parameterized ansatz circuit\n",
    "        hamiltonian (SparsePauliOp): Operator representation of Hamiltonian\n",
    "        estimator (Estimator): Estimator primitive instance\n",
    "        callback_dict (dict): Mutable dict for storing values\n",
    "\n",
    "    Returns:\n",
    "        Callable: Callback function object\n",
    "    \"\"\"\n",
    "\n",
    "    def callback(current_vector):\n",
    "        # Keep track of the number of iterations\n",
    "        callback_dict[\"iters\"] += 1\n",
    "        # Set the prev_vector to the latest one\n",
    "        callback_dict[\"prev_vector\"] = current_vector\n",
    "        # Compute the value of the cost function at the current vector\n",
    "        value = estimator.run(ansatz, hamiltonian, parameter_values=current_vector).result().values[0]\n",
    "        callback_dict[\"cost_history\"].append(value)\n",
    "        # Print to screen on single line\n",
    "        print(\n",
    "            \"Iters. done: {} [value: {}]\".format(callback_dict[\"iters\"], value),\n",
    "            end=\"\\r\",\n",
    "            flush=True\n",
    "        )\n",
    "\n",
    "    return callback"
   ]
  },
  {
   "cell_type": "code",
   "execution_count": 20,
   "id": "bba7f885",
   "metadata": {},
   "outputs": [],
   "source": [
    "callback_dict = {\n",
    "    \"prev_vector\": None,\n",
    "    \"iters\": 0,\n",
    "    \"cost_history\": []\n",
    "}"
   ]
  },
  {
   "cell_type": "code",
   "execution_count": 23,
   "id": "9eb6a7c8-fd38-4f8d-86f5-22f6e5ca1be2",
   "metadata": {
    "tags": []
   },
   "outputs": [
    {
     "name": "stdout",
     "output_type": "stream",
     "text": [
      " message: Optimization terminated successfully.\n",
      " success: True\n",
      "  status: 1\n",
      "     fun: -3.9755000000000003\n",
      "       x: [ 9.849e-01  1.408e+00 ...  2.945e-01  1.804e+00]\n",
      "    nfev: 175\n",
      "   maxcv: 0.0\n"
     ]
    }
   ],
   "source": [
    "from qiskit_ibm_runtime import Session\n",
    "from scipy.optimize import minimize\n",
    "\n",
    "# Randomly initialize the circuit parameters\n",
    "x0 = 2 * np.pi * np.random.random(ansatz.num_parameters)\n",
    "\n",
    "with Session(service=service, backend=\"ibmq_qasm_simulator\") as session:\n",
    "    callback = build_callback(ansatz, H1, estimator, callback_dict)\n",
    "    estimator = Estimator(session=session)\n",
    "    result = minimize(cost_func, x0,  args=(ansatz, H1, estimator), method=\"cobyla\", options={\"maxiter\": 50}, callback=callback)\n",
    "    \n",
    "print(result)    "
   ]
  },
  {
   "cell_type": "code",
   "execution_count": 25,
   "id": "7fb16034",
   "metadata": {},
   "outputs": [
    {
     "data": {
      "text/plain": [
       "Text(0, 0.5, 'Cost')"
      ]
     },
     "execution_count": 25,
     "metadata": {},
     "output_type": "execute_result"
    },
    {
     "data": {
      "image/png": "[encoded data removed]",
      "text/plain": [
       "<Figure size 432x288 with 1 Axes>"
      ]
     },
     "metadata": {
      "needs_background": "light"
     },
     "output_type": "display_data"
    }
   ],
   "source": [
    "# Plot the expectation value over the iterations of the VQE algorithm\n",
    "import matplotlib.pyplot as plt\n",
    "\n",
    "fig, ax = plt.subplots()\n",
    "ax.plot(range(callback_dict[\"iters\"]), callback_dict[\"cost_history\"])\n",
    "ax.set_xlabel(\"Iterations\")\n",
    "ax.set_ylabel(\"Cost\")"
   ]
  },
  {
   "cell_type": "code",
   "execution_count": 26,
   "id": "e8989209-3fe7-4aba-8dd7-68db445d778a",
   "metadata": {
    "tags": []
   },
   "outputs": [
    {
     "data": {
      "text/html": [
       "<h3>Version Information</h3><table><tr><th>Software</th><th>Version</th></tr><tr><td><code>qiskit</code></td><td>0.44.1</td></tr><tr><td><code>qiskit-terra</code></td><td>0.25.1</td></tr><tr><td><code>qiskit_aer</code></td><td>0.12.2</td></tr><tr><td><code>qiskit_ibm_runtime</code></td><td>0.12.0</td></tr><tr><td><code>qiskit_ibm_provider</code></td><td>0.7.0</td></tr><tr><th colspan='2'>System information</th></tr><tr><td>Python version</td><td>3.9.7</td></tr><tr><td>Python compiler</td><td>GCC 9.4.0</td></tr><tr><td>Python build</td><td>default, Sep 14 2021 01:17:55</td></tr><tr><td>OS</td><td>Linux</td></tr><tr><td>CPUs</td><td>6</td></tr><tr><td>Memory (Gb)</td><td>31.04016876220703</td></tr><tr><td colspan='2'>Tue Sep 05 12:31:52 2023 EDT</td></tr></table>"
      ],
      "text/plain": [
       "<IPython.core.display.HTML object>"
      ]
     },
     "metadata": {},
     "output_type": "display_data"
    }
   ],
   "source": [
    "%qiskit_version_table"
   ]
  },
  {
   "cell_type": "code",
   "execution_count": null,
   "id": "aebfad5d-ac2f-44ca-ab98-9a881ad534fd",
   "metadata": {},
   "outputs": [],
   "source": []
  }
 ],
 "metadata": {
  "kernelspec": {
   "display_name": "Python 3 (ipykernel)",
   "language": "python",
   "name": "python3"
  },
  "language_info": {
   "codemirror_mode": {
    "name": "ipython",
    "version": 3
   },
   "file_extension": ".py",
   "mimetype": "text/x-python",
   "name": "python",
   "nbconvert_exporter": "python",
   "pygments_lexer": "ipython3",
   "version": "3.9.7"
  },
  "widgets": {
   "application/vnd.jupyter.widget-state+json": {
    "state": {
     "03a5cc33952246c0a7fb9ad16f410e99": {
      "model_module": "@jupyter-widgets/controls",
      "model_module_version": "2.0.0",
      "model_name": "HTMLStyleModel",
      "state": {
       "description_width": "",
       "font_size": null,
       "text_color": null
      }
     },
     "0522ff5a9033492c8b95285b434342eb": {
      "model_module": "@jupyter-widgets/controls",
      "model_module_version": "2.0.0",
      "model_name": "ButtonStyleModel",
      "state": {
       "font_family": null,
       "font_size": null,
       "font_style": null,
       "font_variant": null,
       "font_weight": null,
       "text_color": null,
       "text_decoration": null
      }
     },
     "4632c1036fd446adade297930c759155": {
      "model_module": "@jupyter-widgets/controls",
      "model_module_version": "2.0.0",
      "model_name": "HTMLModel",
      "state": {
       "layout": "IPY_MODEL_465901f43e9341778e16a526f09e5d93",
       "style": "IPY_MODEL_fd2cbb81a5a248eeb38bd6b1d1983019",
       "value": "<h5>Backend</h5>"
      }
     },
     "465901f43e9341778e16a526f09e5d93": {
      "model_module": "@jupyter-widgets/base",
      "model_module_version": "2.0.0",
      "model_name": "LayoutModel",
      "state": {
       "width": "145px"
      }
     },
     "4f2015ee41d143de9719ed6c513a0c7d": {
      "model_module": "@jupyter-widgets/controls",
      "model_module_version": "2.0.0",
      "model_name": "HTMLModel",
      "state": {
       "layout": "IPY_MODEL_7f249b7c58574baebc469a31ab35ad21",
       "style": "IPY_MODEL_e8c0f724e9204ba491e999fac1a8f732",
       "value": "<h5>Queue</h5>"
      }
     },
     "63598e9c65274e40a2e61158b158ac55": {
      "model_module": "@jupyter-widgets/base",
      "model_module_version": "2.0.0",
      "model_name": "LayoutModel",
      "state": {
       "margin": "0px 0px 10px 0px"
      }
     },
     "6f0d56960ba94d3da4d2a97bd2371509": {
      "model_module": "@jupyter-widgets/controls",
      "model_module_version": "2.0.0",
      "model_name": "HTMLModel",
      "state": {
       "layout": "IPY_MODEL_eceaa6c5f1ca4956bbe72364b83651ab",
       "style": "IPY_MODEL_f2af261623bf47fcbe506a1636e501bc",
       "value": "<h5>Status</h5>"
      }
     },
     "7f249b7c58574baebc469a31ab35ad21": {
      "model_module": "@jupyter-widgets/base",
      "model_module_version": "2.0.0",
      "model_name": "LayoutModel",
      "state": {
       "width": "70px"
      }
     },
     "90d7f064e43642e5937cb4d1108427bf": {
      "model_module": "@jupyter-widgets/controls",
      "model_module_version": "2.0.0",
      "model_name": "ButtonModel",
      "state": {
       "button_style": "primary",
       "description": "Clear",
       "layout": "IPY_MODEL_d3721f1cd9f84bf5babf26a7728dc1cb",
       "style": "IPY_MODEL_0522ff5a9033492c8b95285b434342eb",
       "tooltip": null
      }
     },
     "9705ad329e814b54ba445fd40f51fa0b": {
      "model_module": "@jupyter-widgets/controls",
      "model_module_version": "2.0.0",
      "model_name": "HBoxModel",
      "state": {
       "children": [
        "IPY_MODEL_cab9ea76be6b46dea79ff0b187d36109",
        "IPY_MODEL_4632c1036fd446adade297930c759155",
        "IPY_MODEL_6f0d56960ba94d3da4d2a97bd2371509",
        "IPY_MODEL_4f2015ee41d143de9719ed6c513a0c7d",
        "IPY_MODEL_fbd5c9e9ea0b4e3a8d9fbc9a8890478e"
       ],
       "layout": "IPY_MODEL_f6506cf7186c456ea4fba1b6653b895a"
      }
     },
     "9d7c4bc0b9e6467a978cb6fca70f0374": {
      "model_module": "@jupyter-widgets/controls",
      "model_module_version": "2.0.0",
      "model_name": "HTMLModel",
      "state": {
       "layout": "IPY_MODEL_63598e9c65274e40a2e61158b158ac55",
       "style": "IPY_MODEL_03a5cc33952246c0a7fb9ad16f410e99",
       "value": "<p style='font-family: IBM Plex Sans, Arial, Helvetica, sans-serif; font-size: 20px; font-weight: medium;'>Circuit Properties</p>"
      }
     },
     "c864f5742940451984fc0ac8b7d81908": {
      "model_module": "@jupyter-widgets/controls",
      "model_module_version": "2.0.0",
      "model_name": "HTMLStyleModel",
      "state": {
       "description_width": "",
       "font_size": null,
       "text_color": null
      }
     },
     "cab9ea76be6b46dea79ff0b187d36109": {
      "model_module": "@jupyter-widgets/controls",
      "model_module_version": "2.0.0",
      "model_name": "HTMLModel",
      "state": {
       "layout": "IPY_MODEL_ea0e7b5c048a4c0f829cb122cfca8173",
       "style": "IPY_MODEL_fe00c6ff7b3f45cd8260a1a7d816659c",
       "value": "<h5>Job ID</h5>"
      }
     },
     "d3721f1cd9f84bf5babf26a7728dc1cb": {
      "model_module": "@jupyter-widgets/base",
      "model_module_version": "2.0.0",
      "model_name": "LayoutModel",
      "state": {
       "grid_area": "right",
       "padding": "0px 0px 0px 0px",
       "width": "70px"
      }
     },
     "db5f5967281342ada55b34a7a19c885e": {
      "model_module": "@jupyter-widgets/base",
      "model_module_version": "2.0.0",
      "model_name": "LayoutModel",
      "state": {
       "grid_template_areas": "\n                                       \". . . . right \"\n                                        ",
       "grid_template_columns": "20% 20% 20% 20% 20%",
       "width": "100%"
      }
     },
     "e8c0f724e9204ba491e999fac1a8f732": {
      "model_module": "@jupyter-widgets/controls",
      "model_module_version": "2.0.0",
      "model_name": "HTMLStyleModel",
      "state": {
       "description_width": "",
       "font_size": null,
       "text_color": null
      }
     },
     "ea0e7b5c048a4c0f829cb122cfca8173": {
      "model_module": "@jupyter-widgets/base",
      "model_module_version": "2.0.0",
      "model_name": "LayoutModel",
      "state": {
       "width": "190px"
      }
     },
     "eceaa6c5f1ca4956bbe72364b83651ab": {
      "model_module": "@jupyter-widgets/base",
      "model_module_version": "2.0.0",
      "model_name": "LayoutModel",
      "state": {
       "width": "95px"
      }
     },
     "efe093203f7049629c6b40566d12a37e": {
      "model_module": "@jupyter-widgets/controls",
      "model_module_version": "2.0.0",
      "model_name": "GridBoxModel",
      "state": {
       "children": [
        "IPY_MODEL_90d7f064e43642e5937cb4d1108427bf"
       ],
       "layout": "IPY_MODEL_db5f5967281342ada55b34a7a19c885e"
      }
     },
     "f2af261623bf47fcbe506a1636e501bc": {
      "model_module": "@jupyter-widgets/controls",
      "model_module_version": "2.0.0",
      "model_name": "HTMLStyleModel",
      "state": {
       "description_width": "",
       "font_size": null,
       "text_color": null
      }
     },
     "f6506cf7186c456ea4fba1b6653b895a": {
      "model_module": "@jupyter-widgets/base",
      "model_module_version": "2.0.0",
      "model_name": "LayoutModel",
      "state": {
       "margin": "0px 0px 0px 37px",
       "width": "600px"
      }
     },
     "f910582051114918b929be4477960ec1": {
      "model_module": "@jupyter-widgets/base",
      "model_module_version": "2.0.0",
      "model_name": "LayoutModel",
      "state": {}
     },
     "fbd5c9e9ea0b4e3a8d9fbc9a8890478e": {
      "model_module": "@jupyter-widgets/controls",
      "model_module_version": "2.0.0",
      "model_name": "HTMLModel",
      "state": {
       "layout": "IPY_MODEL_f910582051114918b929be4477960ec1",
       "style": "IPY_MODEL_c864f5742940451984fc0ac8b7d81908",
       "value": "<h5>Message</h5>"
      }
     },
     "fd2cbb81a5a248eeb38bd6b1d1983019": {
      "model_module": "@jupyter-widgets/controls",
      "model_module_version": "2.0.0",
      "model_name": "HTMLStyleModel",
      "state": {
       "description_width": "",
       "font_size": null,
       "text_color": null
      }
     },
     "fe00c6ff7b3f45cd8260a1a7d816659c": {
      "model_module": "@jupyter-widgets/controls",
      "model_module_version": "2.0.0",
      "model_name": "HTMLStyleModel",
      "state": {
       "description_width": "",
       "font_size": null,
       "text_color": null
      }
     }
    },
    "version_major": 2,
    "version_minor": 0
   }
  }
 },
 "nbformat": 4,
 "nbformat_minor": 5
}
