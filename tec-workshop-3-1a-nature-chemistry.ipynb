{
 "cells": [
  {
   "cell_type": "markdown",
   "id": "opposed-indiana",
   "metadata": {},
   "source": [
    "# Qiskit Workshop: Computing molecular energy states with Qiskit Nature\n",
    "\n"
   ]
  },
  {
   "cell_type": "code",
   "execution_count": 1,
   "id": "bd5016f2-decd-43ed-9ca2-09fef3146b32",
   "metadata": {},
   "outputs": [],
   "source": [
    "%matplotlib inline\n",
    "# Importing standard Qiskit libraries\n",
    "from qiskit import QuantumCircuit, execute, Aer\n",
    "from qiskit.compiler import transpile, assemble\n",
    "from qiskit.tools.jupyter import *\n",
    "from qiskit.visualization import *"
   ]
  },
  {
   "cell_type": "code",
   "execution_count": 2,
   "id": "controversial-tuner",
   "metadata": {},
   "outputs": [],
   "source": [
    "# Import other needed libraries\n",
    "import numpy as np\n",
    "import matplotlib.pyplot as plt"
   ]
  },
  {
   "cell_type": "code",
   "execution_count": 3,
   "id": "c2bcee75",
   "metadata": {},
   "outputs": [],
   "source": [
    "from qiskit_nature import settings\n",
    "\n",
    "settings.use_pauli_sum_op = False"
   ]
  },
  {
   "cell_type": "markdown",
   "id": "38178762-d4bf-4fb1-8bc4-4bf7d4831ac0",
   "metadata": {},
   "source": [
    "---\n",
    "\n",
    "## Introduction\n",
    "\n",
    "<center>\n",
    "<img src=\"https://github.com/Qiskit/qiskit-nature/blob/main/docs/_static/orbitals.png?raw=true\" width=300>\n",
    "</center>\n",
    "\n",
    "**Goal**: Solve non-relativistic time independent Schroedinger equation,\n",
    "\n",
    "<center>\n",
    "    $\\mathcal{H}_{\\text{el}} |\\Psi_{n}\\rangle = E_{n} |\\Psi_{n}\\rangle$\n",
    "</center>\n",
    "\n",
    "to find the energies $E_n$. The ground state energy, $E_0$, given by:\n",
    "\n",
    "<center>\n",
    "    $E_0 = \\frac{\\langle \\Psi_0 | H_{\\text{el}} | \\Psi_0 \\rangle}{\\langle \\Psi_0 | \\Psi_0 \\rangle}$\n",
    "</center>\n",
    "\n",
    "**Solution**: Use eigenvalue solver to find energies $E_n$."
   ]
  },
  {
   "cell_type": "markdown",
   "id": "9d054095-f0c8-42d8-80e7-f99e5b8789e5",
   "metadata": {},
   "source": [
    "---\n",
    "\n",
    "## Qiskit Nature features\n",
    "- Interfaces to common classical chemistry libraries/programs (\"drivers\")\n",
    "    - Gaussian\n",
    "    - PSI4\n",
    "    - PyQuante\n",
    "    - PYSCF\n",
    "- Functions to map various operators to qubit operators\n",
    "- Common ansatz preparation circuits for variational solvers"
   ]
  },
  {
   "cell_type": "markdown",
   "id": "55d789a7-4ce0-4873-9f11-6a1d741f1f63",
   "metadata": {},
   "source": [
    "---\n",
    "\n",
    "## Setting up the problem"
   ]
  },
  {
   "cell_type": "markdown",
   "id": "eligible-cowboy",
   "metadata": {},
   "source": [
    "### Step 1: Create molecule and the driver"
   ]
  },
  {
   "cell_type": "code",
   "execution_count": 4,
   "id": "fffc417c-4709-479d-a1ac-c86566c2a010",
   "metadata": {},
   "outputs": [],
   "source": [
    "from qiskit_nature.second_q.drivers import PySCFDriver\n",
    "from qiskit_nature.second_q.formats.molecule_info import MoleculeInfo\n",
    "\n",
    "# Create molecule\n",
    "molecule = MoleculeInfo(['H', 'H'], [(0., 0., 0.), (0., 0., 0.735)],\n",
    "                        charge=0, \n",
    "                        multiplicity=1)\n",
    "\n",
    "# Instantiate driver\n",
    "driver = PySCFDriver.from_molecule(molecule = molecule, basis='sto3g')"
   ]
  },
  {
   "cell_type": "markdown",
   "id": "d13276dd-3733-4418-94f9-48df6bfe589b",
   "metadata": {},
   "source": [
    "<br>\n",
    "\n",
    "*Step 2a:* Get the `ElectronicStructureProblem` object by running the driver and compute Second quantization operator"
   ]
  },
  {
   "cell_type": "code",
   "execution_count": 5,
   "id": "cc240781-8be5-4c4e-b2ec-e2fdd3c3c30f",
   "metadata": {},
   "outputs": [
    {
     "name": "stderr",
     "output_type": "stream",
     "text": [
      "/home/wagnerse/.conda/envs/qiskit/lib/python3.9/site-packages/pyscf/dft/libxc.py:772: UserWarning: Since PySCF-2.3, B3LYP (and B3P86) are changed to the VWN-RPA variant, the same to the B3LYP functional in Gaussian and ORCA (issue 1480). To restore the VWN5 definition, you can put the setting \"B3LYP_WITH_VWN5 = True\" in pyscf_conf.py\n",
      "  warnings.warn('Since PySCF-2.3, B3LYP (and B3P86) are changed to the VWN-RPA variant, '\n"
     ]
    },
    {
     "name": "stdout",
     "output_type": "stream",
     "text": [
      "Fermionic Operator\n",
      "number spin orbitals=4, number terms=36\n",
      "  -1.25633907300325 * ( +_0 -_0 )\n",
      "+ -0.47189600728114184 * ( +_1 -_1 )\n",
      "+ -1.25633907300325 * ( +_2 -_2 )\n",
      "+ -0.47189600728114184 * ( +_3 -_3 )\n",
      "+ 0.33785507740175813 * ( +_0 +_0 -_0 -_0 )\n",
      "+ 0.09046559989211568 * ( +_0 +_0 -_1 -_1 )\n",
      "+ 0.09046559989211564 * ( +_0 +_1 -_0 -_1 )\n",
      "+ 0.33229086512764827 * ( +_0 +_1 -_1 -_0 )\n",
      "+ 0.33785507740175813 * ( +_0 +_2 -_2 -_0 )\n",
      "+ 0.09046559989211568 * ( +_0 +_2 -_3 -_1 )\n",
      "+ 0.09046559989211564 * ( +_0 +_3 -_2 -_1 )\n",
      "+ 0.33229086512764827 * ( +_0 +_3 -_3 -_0 )\n",
      "+ 0.3322908651276482 * ( +_1 +_0 -_0 -_1 )\n",
      "+ 0.09046559989211574 * ( +_1 +_0 -_1 -_0 )\n",
      "+ 0.09046559989211565 * ( +_1 +_1 -_0 -_0 )\n",
      "+ 0.3492868613660089 * ( +_1 +_1 -_1 -_1 )\n",
      "+ 0.3322908651276482 * ( +_1 +_2 -_2 -_1 )\n",
      "+ 0.09046559989211574 * ( +_1 +_2 -_3 -_0 )\n",
      "+ 0.09046559989211565 * ( +_1 +_3 -_2 -_0 )\n",
      "+ 0.3492868613660089 * ( +_1 +_3 -_3 -_1 )\n",
      "+ 0.33785507740175813 * ( +_2 +_0 -_0 -_2 )\n",
      "+ 0.09046559989211568 * ( +_2 +_0 -_1 -_3 )\n",
      "+ 0.09046559989211564 * ( +_2 +_1 -_0 -_3 )\n",
      "+ 0.33229086512764827 * ( +_2 +_1 -_1 -_2 )\n",
      "+ 0.33785507740175813 * ( +_2 +_2 -_2 -_2 )\n",
      "+ 0.09046559989211568 * ( +_2 +_2 -_3 -_3 )\n",
      "+ 0.09046559989211564 * ( +_2 +_3 -_2 -_3 )\n",
      "+ 0.33229086512764827 * ( +_2 +_3 -_3 -_2 )\n",
      "+ 0.3322908651276482 * ( +_3 +_0 -_0 -_3 )\n",
      "+ 0.09046559989211574 * ( +_3 +_0 -_1 -_2 )\n",
      "+ 0.09046559989211565 * ( +_3 +_1 -_0 -_2 )\n",
      "+ 0.3492868613660089 * ( +_3 +_1 -_1 -_3 )\n",
      "+ 0.3322908651276482 * ( +_3 +_2 -_2 -_3 )\n",
      "+ 0.09046559989211574 * ( +_3 +_2 -_3 -_2 )\n",
      "+ 0.09046559989211565 * ( +_3 +_3 -_2 -_2 )\n",
      "+ 0.3492868613660089 * ( +_3 +_3 -_3 -_3 )\n"
     ]
    }
   ],
   "source": [
    "es_problem = driver.run()\n",
    "second_q_op = es_problem.hamiltonian.second_q_op()\n",
    "print(second_q_op)"
   ]
  },
  {
   "cell_type": "markdown",
   "id": "ef68d088-66a5-43d8-b625-d302ebb823f0",
   "metadata": {},
   "source": [
    "<br>\n",
    "\n",
    "*Step 2b:* Map to qubit spin operators\n",
    "\n",
    "Available mappings:\n",
    "- Jordan-Wigner\n",
    "- Parity\n",
    "- Bravyi-Kitaev\n",
    "\n",
    "<img src=https://qiskit.org/documentation/nature/_images/jw_mapping.png>"
   ]
  },
  {
   "cell_type": "code",
   "execution_count": 6,
   "id": "9811c873-cf14-483f-981f-7db0d9abf6ad",
   "metadata": {},
   "outputs": [
    {
     "name": "stdout",
     "output_type": "stream",
     "text": [
      "SparsePauliOp(['IIII', 'IIIZ', 'IIZI', 'IZII', 'ZIII', 'IIZZ', 'IZIZ', 'YYYY', 'XXYY', 'YYXX', 'XXXX', 'ZIIZ', 'IZZI', 'ZIZI', 'ZZII'],\n",
      "              coeffs=[-0.81054798+0.j,  0.17218393+0.j, -0.22575349+0.j,  0.17218393+0.j,\n",
      " -0.22575349+0.j,  0.12091263+0.j,  0.16892754+0.j,  0.0452328 +0.j,\n",
      "  0.0452328 +0.j,  0.0452328 +0.j,  0.0452328 +0.j,  0.16614543+0.j,\n",
      "  0.16614543+0.j,  0.17464343+0.j,  0.12091263+0.j])\n"
     ]
    }
   ],
   "source": [
    "from qiskit_nature.second_q.mappers import JordanWignerMapper\n",
    "\n",
    "jw_qubit_mapper =JordanWignerMapper()\n",
    "jw_qubit_op = jw_qubit_mapper.map(second_q_op)\n",
    "print(jw_qubit_op)"
   ]
  },
  {
   "cell_type": "code",
   "execution_count": 7,
   "id": "c771414a-08b4-470e-8152-2d7d3b29fe2c",
   "metadata": {},
   "outputs": [
    {
     "name": "stdout",
     "output_type": "stream",
     "text": [
      "SparsePauliOp(['II', 'IZ', 'ZI', 'ZZ', 'XX'],\n",
      "              coeffs=[-1.05237325+0.j,  0.39793742+0.j, -0.39793742+0.j, -0.0112801 +0.j,\n",
      "  0.1809312 +0.j])\n"
     ]
    }
   ],
   "source": [
    "from qiskit_nature.second_q.mappers import ParityMapper\n",
    "\n",
    "pr_qubit_mapper =ParityMapper(num_particles=es_problem.num_particles)\n",
    "pr_qubit_op = pr_qubit_mapper.map(second_q_op)\n",
    "print(pr_qubit_op)"
   ]
  },
  {
   "cell_type": "markdown",
   "id": "chinese-screen",
   "metadata": {},
   "source": [
    "---\n",
    "\n",
    "## Solve for ground state energy using VQE\n",
    "\n",
    "<img src=https://qiskit.org/documentation/nature/_images/vqe.png width=1000px>"
   ]
  },
  {
   "cell_type": "markdown",
   "id": "9fecf6c5-e596-45c6-bd50-83ec28f5a82e",
   "metadata": {},
   "source": [
    "### Step 1: Create VQE solver\n",
    "\n",
    "#### Create/Instatiate a parameterized ansatz circuit, then pass to `VQE` class\n",
    "\n",
    "Available ansatz circuits / variational forms:\n",
    "- `TwoLocal`\n",
    "- `EfficientSU2`\n",
    "- `UCC` (Unitary coupled cluster)"
   ]
  },
  {
   "cell_type": "code",
   "execution_count": 8,
   "id": "b9c3ba02-6756-422b-a5fc-850b37c35bdc",
   "metadata": {},
   "outputs": [],
   "source": [
    "n = jw_qubit_op.num_qubits\n",
    "#n = pr_qubit_op.num_qubits"
   ]
  },
  {
   "cell_type": "code",
   "execution_count": 9,
   "id": "86176627-2961-4086-99f0-2de29ec0c140",
   "metadata": {},
   "outputs": [
    {
     "data": {
      "image/png": "[encoded data removed]",
      "text/plain": [
       "<Figure size 1531.4x264.88 with 1 Axes>"
      ]
     },
     "execution_count": 9,
     "metadata": {},
     "output_type": "execute_result"
    }
   ],
   "source": [
    "from qiskit.circuit.library import TwoLocal\n",
    "\n",
    "tl_circ = TwoLocal(num_qubits = n, rotation_blocks = ['h', 'rx'], entanglement_blocks = 'cz',\n",
    "                      entanglement='full', reps=3, parameter_prefix = 'y')\n",
    "tl_circ.decompose().draw()"
   ]
  },
  {
   "cell_type": "code",
   "execution_count": 10,
   "id": "8961f6f5-e806-46c4-8399-a60383c0e824",
   "metadata": {},
   "outputs": [
    {
     "data": {
      "image/png": "[encoded data removed]",
      "text/plain": [
       "<Figure size 989.597x264.88 with 1 Axes>"
      ]
     },
     "execution_count": 10,
     "metadata": {},
     "output_type": "execute_result"
    }
   ],
   "source": [
    "from qiskit.circuit.library import EfficientSU2\n",
    "\n",
    "su2_circ = EfficientSU2(num_qubits=n, entanglement='linear')\n",
    "su2_circ.decompose().draw()"
   ]
  },
  {
   "cell_type": "code",
   "execution_count": 11,
   "id": "124ecc8a-7f44-4177-9060-8c6642b4fbdd",
   "metadata": {},
   "outputs": [
    {
     "data": {
      "image/png": "[encoded data removed]",
      "text/plain": [
       "<Figure size 568.197x264.88 with 1 Axes>"
      ]
     },
     "execution_count": 11,
     "metadata": {},
     "output_type": "execute_result"
    }
   ],
   "source": [
    "from qiskit_nature.second_q.circuit.library import UCC\n",
    "\n",
    "ucc_circ = UCC(excitations='s',\n",
    "               qubit_mapper=jw_qubit_mapper, \n",
    "               num_particles=es_problem.num_particles, \n",
    "               num_spatial_orbitals=es_problem.num_spatial_orbitals)\n",
    "ucc_circ.decompose().draw()"
   ]
  },
  {
   "cell_type": "markdown",
   "id": "51803b19-369e-4b3f-b24f-e21f6cce3e15",
   "metadata": {},
   "source": [
    "<br> \n",
    "\n",
    "Now, create the VQE solver with the desired ansatz"
   ]
  },
  {
   "cell_type": "code",
   "execution_count": 12,
   "id": "14cc73ff-bda5-4b2a-ac48-4d70b65e7108",
   "metadata": {},
   "outputs": [],
   "source": [
    "from qiskit.algorithms.minimum_eigensolvers import VQE\n",
    "from qiskit.primitives import Estimator\n",
    "from qiskit.algorithms.optimizers import SLSQP, COBYLA\n",
    "\n",
    "vqe_solver = VQE(Estimator(), su2_circ, COBYLA())"
   ]
  },
  {
   "cell_type": "markdown",
   "id": "68061d75-b415-4942-87b0-b9f8de471361",
   "metadata": {},
   "source": [
    "<br>\n",
    "\n",
    "### Step 2: Run ground state solver"
   ]
  },
  {
   "cell_type": "code",
   "execution_count": 13,
   "id": "147cc650-d250-4ea6-987e-6aace77e287a",
   "metadata": {},
   "outputs": [],
   "source": [
    "# Choose your mapper!\n",
    "\n",
    "# JW mapping (uses 4 qubits)\n",
    "qubit_mapper = jw_qubit_mapper\n",
    "\n",
    "# Parity mapping using 2 qubits\n",
    "#qubit_mapper = pr_qubit_mapper"
   ]
  },
  {
   "cell_type": "markdown",
   "id": "1be4c902-b1b7-475a-9d54-a919fd62a98a",
   "metadata": {},
   "source": [
    "<br> \n",
    "\n",
    "Using the `VQE` class with `EfficientSU2`"
   ]
  },
  {
   "cell_type": "code",
   "execution_count": 14,
   "id": "ffce51a8-e422-4e9d-b5ac-b20fef6799b5",
   "metadata": {},
   "outputs": [],
   "source": [
    "# Callback function to display intermediate results\n",
    "def callback(eval_count, params, value, metadata):\n",
    "    if eval_count % 10 == 0:\n",
    "        print(\"Iteration:\", eval_count, \" value=\", value)\n",
    "    \n",
    "vqe_solver.callback = callback"
   ]
  },
  {
   "cell_type": "code",
   "execution_count": 15,
   "id": "7562d359-3820-44fa-80f9-cf7d6dd54056",
   "metadata": {},
   "outputs": [
    {
     "name": "stdout",
     "output_type": "stream",
     "text": [
      "Iteration: 10  value= -0.8163478529175907\n",
      "Iteration: 20  value= -1.006548704912117\n",
      "Iteration: 30  value= -1.2624270351998104\n",
      "Iteration: 40  value= -1.0610303421775713\n",
      "Iteration: 50  value= -1.3672453666370594\n",
      "Iteration: 60  value= -1.468463770922675\n",
      "Iteration: 70  value= -1.2891192781421672\n",
      "Iteration: 80  value= -1.4587251991356802\n",
      "Iteration: 90  value= -1.6505076063877562\n",
      "Iteration: 100  value= -1.6724733336195723\n",
      "Iteration: 110  value= -1.6864538194150436\n",
      "Iteration: 120  value= -1.6620853612701068\n",
      "Iteration: 130  value= -1.6939391815480451\n",
      "Iteration: 140  value= -1.7117269578902963\n",
      "Iteration: 150  value= -1.7455541720164147\n",
      "Iteration: 160  value= -1.7670237072266104\n",
      "Iteration: 170  value= -1.7736873857454711\n",
      "Iteration: 180  value= -1.7852680863323944\n",
      "Iteration: 190  value= -1.7721235090414325\n",
      "Iteration: 200  value= -1.7931962361907305\n",
      "Iteration: 210  value= -1.8108074138923587\n",
      "Iteration: 220  value= -1.8156146043730936\n",
      "Iteration: 230  value= -1.8227827238493246\n",
      "Iteration: 240  value= -1.825990568260654\n",
      "Iteration: 250  value= -1.8324071613741184\n",
      "Iteration: 260  value= -1.846741059804385\n",
      "Iteration: 270  value= -1.8468795299066758\n",
      "Iteration: 280  value= -1.8466274849352935\n",
      "Iteration: 290  value= -1.8492183393383683\n",
      "Iteration: 300  value= -1.8482936142719717\n",
      "Iteration: 310  value= -1.8525432315116126\n",
      "Iteration: 320  value= -1.853677432411306\n",
      "Iteration: 330  value= -1.8554081067272337\n",
      "Iteration: 340  value= -1.8554420850334243\n",
      "Iteration: 350  value= -1.8558136022645226\n",
      "Iteration: 360  value= -1.8559949521396906\n",
      "Iteration: 370  value= -1.8563038317858807\n",
      "Iteration: 380  value= -1.8562861879134862\n",
      "Iteration: 390  value= -1.8563997815290654\n",
      "Iteration: 400  value= -1.856672061519298\n",
      "Iteration: 410  value= -1.8567600009123013\n",
      "Iteration: 420  value= -1.8567888884654928\n",
      "Iteration: 430  value= -1.8569349905996513\n",
      "Iteration: 440  value= -1.8569825614796558\n",
      "Iteration: 450  value= -1.8570369240650257\n",
      "Iteration: 460  value= -1.8570688763174217\n",
      "Iteration: 470  value= -1.8570501858917896\n",
      "Iteration: 480  value= -1.8570588807206767\n",
      "Iteration: 490  value= -1.85716388749745\n",
      "Iteration: 500  value= -1.857174340341959\n",
      "Iteration: 510  value= -1.857174587348916\n",
      "Iteration: 520  value= -1.857187206001053\n",
      "Iteration: 530  value= -1.8572108463845691\n",
      "Iteration: 540  value= -1.857208711914009\n",
      "Iteration: 550  value= -1.857221308471639\n",
      "Iteration: 560  value= -1.8572179821808246\n",
      "Iteration: 570  value= -1.8572310495889226\n",
      "Iteration: 580  value= -1.8572377033393288\n",
      "Iteration: 590  value= -1.8572354374238673\n",
      "Iteration: 600  value= -1.8572434404576363\n",
      "Iteration: 610  value= -1.8572435374590177\n",
      "Iteration: 620  value= -1.8572457828692455\n",
      "Iteration: 630  value= -1.857246125937927\n",
      "Iteration: 640  value= -1.8572483803142017\n",
      "Iteration: 650  value= -1.857250174965601\n",
      "Iteration: 660  value= -1.8572511800412548\n",
      "Iteration: 670  value= -1.8572540290661204\n",
      "Iteration: 680  value= -1.8572543451451395\n",
      "Iteration: 690  value= -1.8572541334100199\n",
      "Iteration: 700  value= -1.8572561812218769\n",
      "Iteration: 710  value= -1.8572564913793852\n",
      "Iteration: 720  value= -1.8572568958987083\n",
      "Iteration: 730  value= -1.8572578605573855\n",
      "Iteration: 740  value= -1.8572586104443687\n",
      "Iteration: 750  value= -1.857259771051266\n",
      "Iteration: 760  value= -1.8572605298948017\n",
      "Iteration: 770  value= -1.8572608741596894\n",
      "Iteration: 780  value= -1.8572610063880188\n",
      "Iteration: 790  value= -1.8572615996046975\n",
      "Iteration: 800  value= -1.8572626373984509\n",
      "Iteration: 810  value= -1.8572630848298577\n",
      "Iteration: 820  value= -1.8572636141037608\n",
      "Iteration: 830  value= -1.8572635208222905\n",
      "Iteration: 840  value= -1.857264206502608\n",
      "Iteration: 850  value= -1.8572647752972395\n",
      "Iteration: 860  value= -1.857265541518777\n",
      "Iteration: 870  value= -1.857265810363962\n",
      "Iteration: 880  value= -1.8572663476245914\n",
      "Iteration: 890  value= -1.8572666448356383\n",
      "Iteration: 900  value= -1.8572668212793986\n",
      "Iteration: 910  value= -1.8572667101467895\n",
      "Iteration: 920  value= -1.8572674319942954\n",
      "Iteration: 930  value= -1.857267286112493\n",
      "Iteration: 940  value= -1.8572676503703163\n",
      "Iteration: 950  value= -1.8572681512192473\n",
      "Iteration: 960  value= -1.8572684562266168\n",
      "Iteration: 970  value= -1.8572684639787316\n",
      "Iteration: 980  value= -1.8572689696653746\n",
      "Iteration: 990  value= -1.8572695109198305\n",
      "Iteration: 1000  value= -1.857269563821833\n",
      "=== GROUND STATE ENERGY ===\n",
      " \n",
      "* Electronic ground state energy (Hartree): -1.857269788977\n",
      "  - computed part:      -1.857269788977\n",
      "~ Nuclear repulsion energy (Hartree): 0.719968994449\n",
      "> Total ground state energy (Hartree): -1.137300794528\n",
      " \n",
      "=== MEASURED OBSERVABLES ===\n",
      " \n",
      "  0:  # Particles: 2.000 S: 0.000 S^2: 0.000 M: 0.000\n",
      " \n",
      "=== DIPOLE MOMENTS ===\n",
      " \n",
      "~ Nuclear dipole moment (a.u.): [0.0  0.0  1.3889487]\n",
      " \n",
      "  0: \n",
      "  * Electronic dipole moment (a.u.): [0.0  0.0  1.388915452043]\n",
      "    - computed part:      [0.0  0.0  1.388915452043]\n",
      "  > Dipole moment (a.u.): [0.0  0.0  0.000033247957]  Total: 0.000033247957\n",
      "                 (debye): [0.0  0.0  0.000084507869]  Total: 0.000084507869\n",
      " \n"
     ]
    }
   ],
   "source": [
    "from qiskit_nature.second_q.algorithms import GroundStateEigensolver\n",
    "\n",
    "# Using the VQE class with EfficientSU2 ansatz\n",
    "su2_gsc = GroundStateEigensolver(qubit_mapper, vqe_solver)\n",
    "result = su2_gsc.solve(es_problem)\n",
    "\n",
    "print(result)"
   ]
  },
  {
   "cell_type": "markdown",
   "id": "e6ca1492-536a-4079-8ddc-b074ac84a052",
   "metadata": {},
   "source": [
    "### Try initializing the state first using HartreeFock"
   ]
  },
  {
   "cell_type": "code",
   "execution_count": 16,
   "id": "f207f839-1d2e-4130-9a68-73cc936b8b16",
   "metadata": {
    "tags": []
   },
   "outputs": [
    {
     "data": {
      "image/png": "[encoded data removed]",
      "text/plain": [
       "<Figure size 146.797x264.88 with 1 Axes>"
      ]
     },
     "execution_count": 16,
     "metadata": {},
     "output_type": "execute_result"
    }
   ],
   "source": [
    "from qiskit_nature.second_q.circuit.library import HartreeFock\n",
    "\n",
    "init_state = HartreeFock(num_spatial_orbitals=es_problem.num_spatial_orbitals,\n",
    "                         num_particles=es_problem.num_particles,\n",
    "                         qubit_mapper=qubit_mapper)\n",
    "\n",
    "\n",
    "init_state.draw()"
   ]
  },
  {
   "cell_type": "code",
   "execution_count": 17,
   "id": "e37603d5-dbb9-4af1-8c14-06d5ac978551",
   "metadata": {
    "tags": []
   },
   "outputs": [
    {
     "data": {
      "image/png": "[encoded data removed]",
      "text/plain": [
       "<Figure size 688.597x264.88 with 1 Axes>"
      ]
     },
     "execution_count": 17,
     "metadata": {},
     "output_type": "execute_result"
    }
   ],
   "source": [
    "su2_init_circ = init_state.compose(su2_circ)\n",
    "su2_init_circ.draw()"
   ]
  },
  {
   "cell_type": "code",
   "execution_count": 18,
   "id": "d337b5f1-2bfe-4e40-ac90-0eb5108064ea",
   "metadata": {
    "tags": []
   },
   "outputs": [
    {
     "name": "stdout",
     "output_type": "stream",
     "text": [
      "Iteration: 10  value= -0.9806457445663287\n",
      "Iteration: 20  value= -1.1025904894512002\n",
      "Iteration: 30  value= -1.341589908906051\n",
      "Iteration: 40  value= -1.3004117833291877\n",
      "Iteration: 50  value= -1.4838002289865881\n",
      "Iteration: 60  value= -1.4524592197036592\n",
      "Iteration: 70  value= -1.4161285712705174\n",
      "Iteration: 80  value= -1.372870856173128\n",
      "Iteration: 90  value= -1.6195461364159944\n",
      "Iteration: 100  value= -1.703799001633005\n",
      "Iteration: 110  value= -1.7241506336400496\n",
      "Iteration: 120  value= -1.737976251557101\n",
      "Iteration: 130  value= -1.7373569466792285\n",
      "Iteration: 140  value= -1.7687046911367335\n",
      "Iteration: 150  value= -1.7597431286299998\n",
      "Iteration: 160  value= -1.773443555490883\n",
      "Iteration: 170  value= -1.7662688571082386\n",
      "Iteration: 180  value= -1.8021950729139329\n",
      "Iteration: 190  value= -1.8050680523189435\n",
      "Iteration: 200  value= -1.8056574555006055\n",
      "Iteration: 210  value= -1.8034212863858416\n",
      "Iteration: 220  value= -1.8187447391817417\n",
      "Iteration: 230  value= -1.8220826403719574\n",
      "Iteration: 240  value= -1.822445475811119\n",
      "Iteration: 250  value= -1.8267332120436401\n",
      "Iteration: 260  value= -1.8266820492687583\n",
      "Iteration: 270  value= -1.8317409017531348\n",
      "Iteration: 280  value= -1.8329650490533154\n",
      "Iteration: 290  value= -1.8324960872414942\n",
      "Iteration: 300  value= -1.8326863235795963\n",
      "Iteration: 310  value= -1.8330909197261316\n",
      "Iteration: 320  value= -1.8339310109518943\n",
      "Iteration: 330  value= -1.8344229380282535\n",
      "Iteration: 340  value= -1.8347473323771735\n",
      "Iteration: 350  value= -1.8349119047552753\n",
      "Iteration: 360  value= -1.835415740220763\n",
      "Iteration: 370  value= -1.8357263021475791\n",
      "Iteration: 380  value= -1.8357834365334518\n",
      "Iteration: 390  value= -1.8358763182763298\n",
      "Iteration: 400  value= -1.8362588028227338\n",
      "Iteration: 410  value= -1.8363576734172633\n",
      "Iteration: 420  value= -1.8363728436780666\n",
      "Iteration: 430  value= -1.8364809854344046\n",
      "Iteration: 440  value= -1.8364951407527605\n",
      "Iteration: 450  value= -1.8367726963928415\n",
      "Iteration: 460  value= -1.836721175818711\n",
      "Iteration: 470  value= -1.8368425167337075\n",
      "Iteration: 480  value= -1.837034980224233\n",
      "Iteration: 490  value= -1.8370724950041344\n",
      "Iteration: 500  value= -1.837199666456613\n",
      "Iteration: 510  value= -1.837358426708743\n",
      "Iteration: 520  value= -1.8372629479116915\n",
      "Iteration: 530  value= -1.8376601051435548\n",
      "Iteration: 540  value= -1.8376690813761716\n",
      "Iteration: 550  value= -1.8376644135609976\n",
      "Iteration: 560  value= -1.8377686842454484\n",
      "Iteration: 570  value= -1.8378210520261804\n",
      "Iteration: 580  value= -1.837865113430953\n",
      "Iteration: 590  value= -1.8378915323218032\n",
      "Iteration: 600  value= -1.8379305094046483\n",
      "Iteration: 610  value= -1.8380150072958905\n",
      "Iteration: 620  value= -1.8380288281870998\n",
      "Iteration: 630  value= -1.8380622174979286\n",
      "Iteration: 640  value= -1.8381083609357964\n",
      "Iteration: 650  value= -1.838199031233242\n",
      "Iteration: 660  value= -1.838276323770749\n",
      "Iteration: 670  value= -1.8383869990572352\n",
      "Iteration: 680  value= -1.8384504824178933\n",
      "Iteration: 690  value= -1.8385240462031163\n",
      "Iteration: 700  value= -1.8386014460551428\n",
      "Iteration: 710  value= -1.8386217588438023\n",
      "Iteration: 720  value= -1.8387328572561734\n",
      "Iteration: 730  value= -1.8387311201994476\n",
      "Iteration: 740  value= -1.838834981661184\n",
      "Iteration: 750  value= -1.8389488229829878\n",
      "Iteration: 760  value= -1.8388073741106794\n",
      "Iteration: 770  value= -1.839023045496476\n",
      "Iteration: 780  value= -1.8389932196280727\n",
      "Iteration: 790  value= -1.8391649333881634\n",
      "Iteration: 800  value= -1.8392357407750028\n",
      "Iteration: 810  value= -1.83925850632026\n",
      "Iteration: 820  value= -1.8394056409830286\n",
      "Iteration: 830  value= -1.8393856622289482\n",
      "Iteration: 840  value= -1.8394777455665063\n",
      "Iteration: 850  value= -1.8395658995525679\n",
      "Iteration: 860  value= -1.839593904910531\n",
      "Iteration: 870  value= -1.8397196054948088\n",
      "Iteration: 880  value= -1.8397506766337817\n",
      "Iteration: 890  value= -1.8398974631600145\n",
      "Iteration: 900  value= -1.8401175539544647\n",
      "Iteration: 910  value= -1.8401326678500678\n",
      "Iteration: 920  value= -1.8401873705424594\n",
      "Iteration: 930  value= -1.8401059201071095\n",
      "Iteration: 940  value= -1.8403658843064379\n",
      "Iteration: 950  value= -1.840389273035411\n",
      "Iteration: 960  value= -1.840516755517991\n",
      "Iteration: 970  value= -1.8405566116963392\n",
      "Iteration: 980  value= -1.8407087416434165\n",
      "Iteration: 990  value= -1.8408619102465091\n",
      "Iteration: 1000  value= -1.840905675924662\n",
      "=== GROUND STATE ENERGY ===\n",
      " \n",
      "* Electronic ground state energy (Hartree): -1.840938775212\n",
      "  - computed part:      -1.840938775212\n",
      "~ Nuclear repulsion energy (Hartree): 0.719968994449\n",
      "> Total ground state energy (Hartree): -1.120969780763\n",
      " \n",
      "=== MEASURED OBSERVABLES ===\n",
      " \n",
      "  0:  # Particles: 1.998 S: 0.006 S^2: 0.006 M: -0.002\n",
      " \n",
      "=== DIPOLE MOMENTS ===\n",
      " \n",
      "~ Nuclear dipole moment (a.u.): [0.0  0.0  1.3889487]\n",
      " \n",
      "  0: \n",
      "  * Electronic dipole moment (a.u.): [0.0  0.0  1.370012006892]\n",
      "    - computed part:      [0.0  0.0  1.370012006892]\n",
      "  > Dipole moment (a.u.): [0.0  0.0  0.018936693108]  Total: 0.018936693108\n",
      "                 (debye): [0.0  0.0  0.048132268335]  Total: 0.048132268335\n",
      " \n"
     ]
    }
   ],
   "source": [
    "vqe_solver = VQE(Estimator(), su2_init_circ, COBYLA(), callback=callback)\n",
    "\n",
    "su2_init_gsc = GroundStateEigensolver(qubit_mapper, vqe_solver)\n",
    "result = su2_init_gsc.solve(es_problem)\n",
    "\n",
    "print(result)"
   ]
  },
  {
   "cell_type": "markdown",
   "id": "3c906883-36e5-4b25-b46c-f5ccc2f3fdd0",
   "metadata": {},
   "source": [
    "<br>\n",
    "\n",
    "Check against classical solver"
   ]
  },
  {
   "cell_type": "code",
   "execution_count": 19,
   "id": "c7fad01c-60b9-4d5c-a4a6-1eff5fb5f915",
   "metadata": {},
   "outputs": [
    {
     "name": "stdout",
     "output_type": "stream",
     "text": [
      "=== GROUND STATE ENERGY ===\n",
      " \n",
      "* Electronic ground state energy (Hartree): -1.857275030202\n",
      "  - computed part:      -1.857275030202\n",
      "~ Nuclear repulsion energy (Hartree): 0.719968994449\n",
      "> Total ground state energy (Hartree): -1.137306035753\n",
      " \n",
      "=== MEASURED OBSERVABLES ===\n",
      " \n",
      "  0:  # Particles: 2.000 S: 0.000 S^2: 0.000 M: 0.000\n",
      " \n",
      "=== DIPOLE MOMENTS ===\n",
      " \n",
      "~ Nuclear dipole moment (a.u.): [0.0  0.0  1.3889487]\n",
      " \n",
      "  0: \n",
      "  * Electronic dipole moment (a.u.): [0.0  0.0  1.388948701555]\n",
      "    - computed part:      [0.0  0.0  1.388948701555]\n",
      "  > Dipole moment (a.u.): [0.0  0.0  -0.000000001555]  Total: 0.000000001555\n",
      "                 (debye): [0.0  0.0  -0.000000003953]  Total: 0.000000003953\n",
      " \n"
     ]
    }
   ],
   "source": [
    "# Check against classical solver\n",
    "from qiskit.algorithms.minimum_eigensolvers import NumPyMinimumEigensolver\n",
    "\n",
    "numpy_solver = NumPyMinimumEigensolver()\n",
    "\n",
    "np_gsc = GroundStateEigensolver(qubit_mapper, numpy_solver)\n",
    "np_result = np_gsc.solve(es_problem)\n",
    "\n",
    "print(np_result)"
   ]
  },
  {
   "cell_type": "markdown",
   "id": "sitting-purpose",
   "metadata": {},
   "source": [
    "---\n",
    "\n",
    "## Calculating bond dissociation profile"
   ]
  },
  {
   "cell_type": "markdown",
   "id": "7c6a1610-6bfa-460b-a8bb-c5e16c524289",
   "metadata": {},
   "source": [
    "### Step 1: Create molecule with `degrees_of_freedom` parameter"
   ]
  },
  {
   "cell_type": "code",
   "execution_count": 20,
   "id": "wanted-sodium",
   "metadata": {},
   "outputs": [],
   "source": [
    "# Specify degree of freedom (points of interest)\n",
    "n_points = 10\n",
    "points = np.linspace(0.25, 2, n_points)"
   ]
  },
  {
   "cell_type": "markdown",
   "id": "2d2441ea-80dc-4f77-8ada-43ea06699aa0",
   "metadata": {},
   "source": [
    "<br>\n",
    "\n",
    "### Step 2: Compute potential energy surface using by changing the atom distance"
   ]
  },
  {
   "cell_type": "code",
   "execution_count": 21,
   "id": "df4554e2-50f7-4dfd-bd7d-94b384634e3a",
   "metadata": {},
   "outputs": [
    {
     "name": "stdout",
     "output_type": "stream",
     "text": [
      "Distance: 0.25 , energy: [-0.30492669]\n",
      "Distance: 0.4444444444444444 , energy: [-0.9841056]\n",
      "Distance: 0.6388888888888888 , energy: [-1.12638885]\n",
      "Distance: 0.8333333333333334 , energy: [-1.12652951]\n",
      "Distance: 1.0277777777777777 , energy: [-1.09413285]\n",
      "Distance: 1.2222222222222223 , energy: [-1.05180699]\n",
      "Distance: 1.4166666666666667 , energy: [-0.95795244]\n",
      "Distance: 1.6111111111111112 , energy: [-0.98160248]\n",
      "Distance: 1.8055555555555556 , energy: [-0.94927209]\n",
      "Distance: 2.0 , energy: [-0.9252545]\n"
     ]
    }
   ],
   "source": [
    "energies = []\n",
    "vqe_solver.callback = None\n",
    "for dist in points:\n",
    "    molecule.coords[1] = (0., 0., dist)\n",
    "    driver = PySCFDriver.from_molecule(molecule = molecule, basis='sto3g')\n",
    "    problem = driver.run()\n",
    "    su2_gsc = GroundStateEigensolver(qubit_mapper, vqe_solver)\n",
    "    result = su2_gsc.solve(problem)\n",
    "    energies.append(result.total_energies)    \n",
    "    print(\"Distance:\", dist, \", energy:\", result.total_energies)"
   ]
  },
  {
   "cell_type": "code",
   "execution_count": 22,
   "id": "cleared-recognition",
   "metadata": {},
   "outputs": [
    {
     "data": {
      "text/plain": [
       "Text(0, 0.5, 'Energy')"
      ]
     },
     "execution_count": 22,
     "metadata": {},
     "output_type": "execute_result"
    },
    {
     "data": {
      "image/png": "[encoded data removed]",
      "text/plain": [
       "<Figure size 432x288 with 1 Axes>"
      ]
     },
     "metadata": {
      "needs_background": "light"
     },
     "output_type": "display_data"
    }
   ],
   "source": [
    "# Plot\n",
    "fig = plt.figure()\n",
    "plt.plot(points, energies, marker='o')\n",
    "plt.title('Dissociation profile')\n",
    "plt.xlabel('Interatomic distance')\n",
    "plt.ylabel('Energy')"
   ]
  },
  {
   "cell_type": "markdown",
   "id": "1484d41d-a13e-4b50-bc27-9597f904fa0f",
   "metadata": {},
   "source": [
    "---\n",
    "\n",
    "## Computing excited state energies\n",
    "\n",
    "<img src=https://qiskit.org/documentation/nature/_images/H2_es.png width=200>\n",
    "\n",
    "Use *Quantum equation of motion* (QEOM) method.\n",
    "\n",
    "See article: P. Allitrault et al, [arxiv 1910.12890](https://arxiv.org/abs/1910.12890)"
   ]
  },
  {
   "cell_type": "code",
   "execution_count": 23,
   "id": "9a1269d7",
   "metadata": {},
   "outputs": [
    {
     "name": "stdout",
     "output_type": "stream",
     "text": [
      "=== GROUND STATE ENERGY ===\n",
      " \n",
      "* Electronic ground state energy (Hartree): -1.857047978823\n",
      "  - computed part:      -1.857047978823\n",
      "~ Nuclear repulsion energy (Hartree): 0.719968994449\n",
      "> Total ground state energy (Hartree): -1.137078984374\n",
      " \n",
      "=== EXCITED STATE ENERGIES ===\n",
      " \n",
      "  1: \n",
      "* Electronic excited state energy (Hartree): -1.245418850414\n",
      "> Total excited state energy (Hartree): -0.525449855965\n",
      "  2: \n",
      "* Electronic excited state energy (Hartree): -0.883551600593\n",
      "> Total excited state energy (Hartree): -0.163582606144\n",
      "  3: \n",
      "* Electronic excited state energy (Hartree): -0.22574161234\n",
      "> Total excited state energy (Hartree): 0.494227382109\n",
      " \n",
      "=== MEASURED OBSERVABLES ===\n",
      " \n",
      "  0:  # Particles: 0.000 S: 0.000 S^2: 0.000 M: 0.000\n",
      "  1:  # Particles: 0.000 S: 0.000 S^2: 0.000 M: 0.000\n",
      "  2:  # Particles: 0.000 S: 0.000 S^2: 0.000 M: 0.000\n",
      "  3:  # Particles: 0.000 S: 0.000 S^2: 0.000 M: 0.000\n",
      " \n",
      "=== DIPOLE MOMENTS ===\n",
      " \n",
      "~ Nuclear dipole moment (a.u.): [0.0  0.0  1.3889487]\n",
      " \n",
      "  0: \n",
      "  * Electronic dipole moment (a.u.): [0.0  0.0  0.0]\n",
      "    - computed part:      [0.0  0.0  0.0]\n",
      "  > Dipole moment (a.u.): [0.0  0.0  1.3889487]  Total: 1.3889487\n",
      "                 (debye): [0.0  0.0  3.530355123354]  Total: 3.530355123354\n",
      " \n",
      "  1: \n",
      "  * Electronic dipole moment (a.u.): [0.0  0.0  0.0]\n",
      "    - computed part:      [0.0  0.0  0.0]\n",
      "  > Dipole moment (a.u.): [0.0  0.0  1.3889487]  Total: 1.3889487\n",
      "                 (debye): [0.0  0.0  3.530355123354]  Total: 3.530355123354\n",
      " \n",
      "  2: \n",
      "  * Electronic dipole moment (a.u.): [0.0  0.0  0.0]\n",
      "    - computed part:      [0.0  0.0  0.0]\n",
      "  > Dipole moment (a.u.): [0.0  0.0  1.3889487]  Total: 1.3889487\n",
      "                 (debye): [0.0  0.0  3.530355123354]  Total: 3.530355123354\n",
      " \n",
      "  3: \n",
      "  * Electronic dipole moment (a.u.): [0.0  0.0  0.0]\n",
      "    - computed part:      [0.0  0.0  0.0]\n",
      "  > Dipole moment (a.u.): [0.0  0.0  1.3889487]  Total: 1.3889487\n",
      "                 (debye): [0.0  0.0  3.530355123354]  Total: 3.530355123354\n",
      " \n"
     ]
    }
   ],
   "source": [
    "from qiskit_nature.second_q.algorithms import QEOM\n",
    "\n",
    "qeom_solver = QEOM(su2_gsc, Estimator(), \"sd\")\n",
    "\n",
    "qeom_results = qeom_solver.solve(es_problem)\n",
    "\n",
    "print(qeom_results)"
   ]
  },
  {
   "cell_type": "code",
   "execution_count": 24,
   "id": "aa7aaea6-8456-48c2-907d-0d0ff35971cd",
   "metadata": {},
   "outputs": [
    {
     "data": {
      "text/html": [
       "<h3>Version Information</h3><table><tr><th>Software</th><th>Version</th></tr><tr><td><code>qiskit</code></td><td>0.44.1</td></tr><tr><td><code>qiskit-terra</code></td><td>0.25.1</td></tr><tr><td><code>qiskit_nature</code></td><td>0.6.2</td></tr><tr><th colspan='2'>System information</th></tr><tr><td>Python version</td><td>3.9.7</td></tr><tr><td>Python compiler</td><td>GCC 9.4.0</td></tr><tr><td>Python build</td><td>default, Sep 14 2021 01:17:55</td></tr><tr><td>OS</td><td>Linux</td></tr><tr><td>CPUs</td><td>6</td></tr><tr><td>Memory (Gb)</td><td>31.04016876220703</td></tr><tr><td colspan='2'>Wed Sep 06 15:27:02 2023 EDT</td></tr></table>"
      ],
      "text/plain": [
       "<IPython.core.display.HTML object>"
      ]
     },
     "metadata": {},
     "output_type": "display_data"
    }
   ],
   "source": [
    "import qiskit.tools.jupyter\n",
    "%qiskit_version_table"
   ]
  },
  {
   "cell_type": "code",
   "execution_count": null,
   "id": "2ab1dbd2",
   "metadata": {},
   "outputs": [],
   "source": []
  }
 ],
 "metadata": {
  "kernelspec": {
   "display_name": "Python 3 (ipykernel)",
   "language": "python",
   "name": "python3"
  },
  "language_info": {
   "codemirror_mode": {
    "name": "ipython",
    "version": 3
   },
   "file_extension": ".py",
   "mimetype": "text/x-python",
   "name": "python",
   "nbconvert_exporter": "python",
   "pygments_lexer": "ipython3",
   "version": "3.9.7"
  },
  "widgets": {
   "application/vnd.jupyter.widget-state+json": {
    "state": {
     "01733ccc147c49c3b608cd663f129e78": {
      "model_module": "@jupyter-widgets/base",
      "model_module_version": "2.0.0",
      "model_name": "LayoutModel",
      "state": {
       "grid_template_areas": "\n                                       \". . . . right \"\n                                        ",
       "grid_template_columns": "20% 20% 20% 20% 20%",
       "width": "100%"
      }
     },
     "1cdfdc3eb1514cda91b257db02e414c4": {
      "model_module": "@jupyter-widgets/base",
      "model_module_version": "2.0.0",
      "model_name": "LayoutModel",
      "state": {
       "width": "145px"
      }
     },
     "203c5bda53884637807f88fa0b5c2a8e": {
      "model_module": "@jupyter-widgets/base",
      "model_module_version": "2.0.0",
      "model_name": "LayoutModel",
      "state": {
       "grid_area": "right",
       "padding": "0px 0px 0px 0px",
       "width": "70px"
      }
     },
     "3471904ba756446396b7dc2c26d09e87": {
      "model_module": "@jupyter-widgets/controls",
      "model_module_version": "2.0.0",
      "model_name": "GridBoxModel",
      "state": {
       "children": [
        "IPY_MODEL_d750658776c64f29a4bd2ea01ba2bc18"
       ],
       "layout": "IPY_MODEL_01733ccc147c49c3b608cd663f129e78"
      }
     },
     "37d63e8f4460445fa19d5f3a2ba61205": {
      "model_module": "@jupyter-widgets/controls",
      "model_module_version": "2.0.0",
      "model_name": "HTMLModel",
      "state": {
       "layout": "IPY_MODEL_83550a6d9b944e10bb706394c9aa4e3b",
       "style": "IPY_MODEL_ad9b87eb201847eb931733d56b45a42c",
       "value": "<p style='font-family: IBM Plex Sans, Arial, Helvetica, sans-serif; font-size: 20px; font-weight: medium;'>Circuit Properties</p>"
      }
     },
     "3b04c10d128241c9af62f58be15b5267": {
      "model_module": "@jupyter-widgets/controls",
      "model_module_version": "2.0.0",
      "model_name": "HBoxModel",
      "state": {
       "children": [
        "IPY_MODEL_f83839f72b5d4d74903682d115d6d6ed",
        "IPY_MODEL_a712db538557483894d4d6a13d55f828",
        "IPY_MODEL_5abcf9799fcc41f3b3249b1bb14d4ead",
        "IPY_MODEL_3d5b65350a3f4feeaae4376be366ec88",
        "IPY_MODEL_bfdb7ba89ba64b5c9ff94d9f23f60483"
       ],
       "layout": "IPY_MODEL_86e5a31123dc4f8f97e89a979e4eaa14"
      }
     },
     "3d5b65350a3f4feeaae4376be366ec88": {
      "model_module": "@jupyter-widgets/controls",
      "model_module_version": "2.0.0",
      "model_name": "HTMLModel",
      "state": {
       "layout": "IPY_MODEL_df5db6520bbb4670af47706ce199cc4e",
       "style": "IPY_MODEL_8874d6d9fab34636ae4123b975b31ba2",
       "value": "<h5>Queue</h5>"
      }
     },
     "4bead04e665840ca8b820a5bc4271b86": {
      "model_module": "@jupyter-widgets/controls",
      "model_module_version": "2.0.0",
      "model_name": "HTMLStyleModel",
      "state": {
       "description_width": "",
       "font_size": null,
       "text_color": null
      }
     },
     "5abcf9799fcc41f3b3249b1bb14d4ead": {
      "model_module": "@jupyter-widgets/controls",
      "model_module_version": "2.0.0",
      "model_name": "HTMLModel",
      "state": {
       "layout": "IPY_MODEL_78df6f9089c24f80abcef4dea43f2447",
       "style": "IPY_MODEL_7fe9336081eb4ac289fb2a3af6e6e390",
       "value": "<h5>Status</h5>"
      }
     },
     "5e8a7ce4d3364fcab0c1c2286dc78f84": {
      "model_module": "@jupyter-widgets/controls",
      "model_module_version": "2.0.0",
      "model_name": "HTMLStyleModel",
      "state": {
       "description_width": "",
       "font_size": null,
       "text_color": null
      }
     },
     "724edb3f4bc24044a9046572b46dca71": {
      "model_module": "@jupyter-widgets/base",
      "model_module_version": "2.0.0",
      "model_name": "LayoutModel",
      "state": {}
     },
     "78df6f9089c24f80abcef4dea43f2447": {
      "model_module": "@jupyter-widgets/base",
      "model_module_version": "2.0.0",
      "model_name": "LayoutModel",
      "state": {
       "width": "95px"
      }
     },
     "7fe9336081eb4ac289fb2a3af6e6e390": {
      "model_module": "@jupyter-widgets/controls",
      "model_module_version": "2.0.0",
      "model_name": "HTMLStyleModel",
      "state": {
       "description_width": "",
       "font_size": null,
       "text_color": null
      }
     },
     "83550a6d9b944e10bb706394c9aa4e3b": {
      "model_module": "@jupyter-widgets/base",
      "model_module_version": "2.0.0",
      "model_name": "LayoutModel",
      "state": {
       "margin": "0px 0px 10px 0px"
      }
     },
     "86e5a31123dc4f8f97e89a979e4eaa14": {
      "model_module": "@jupyter-widgets/base",
      "model_module_version": "2.0.0",
      "model_name": "LayoutModel",
      "state": {
       "margin": "0px 0px 0px 37px",
       "width": "600px"
      }
     },
     "8874d6d9fab34636ae4123b975b31ba2": {
      "model_module": "@jupyter-widgets/controls",
      "model_module_version": "2.0.0",
      "model_name": "HTMLStyleModel",
      "state": {
       "description_width": "",
       "font_size": null,
       "text_color": null
      }
     },
     "a712db538557483894d4d6a13d55f828": {
      "model_module": "@jupyter-widgets/controls",
      "model_module_version": "2.0.0",
      "model_name": "HTMLModel",
      "state": {
       "layout": "IPY_MODEL_1cdfdc3eb1514cda91b257db02e414c4",
       "style": "IPY_MODEL_5e8a7ce4d3364fcab0c1c2286dc78f84",
       "value": "<h5>Backend</h5>"
      }
     },
     "ad9b87eb201847eb931733d56b45a42c": {
      "model_module": "@jupyter-widgets/controls",
      "model_module_version": "2.0.0",
      "model_name": "HTMLStyleModel",
      "state": {
       "description_width": "",
       "font_size": null,
       "text_color": null
      }
     },
     "b0ed47d29c414f618ff6940b86801c35": {
      "model_module": "@jupyter-widgets/controls",
      "model_module_version": "2.0.0",
      "model_name": "HTMLStyleModel",
      "state": {
       "description_width": "",
       "font_size": null,
       "text_color": null
      }
     },
     "bfdb7ba89ba64b5c9ff94d9f23f60483": {
      "model_module": "@jupyter-widgets/controls",
      "model_module_version": "2.0.0",
      "model_name": "HTMLModel",
      "state": {
       "layout": "IPY_MODEL_724edb3f4bc24044a9046572b46dca71",
       "style": "IPY_MODEL_b0ed47d29c414f618ff6940b86801c35",
       "value": "<h5>Message</h5>"
      }
     },
     "d750658776c64f29a4bd2ea01ba2bc18": {
      "model_module": "@jupyter-widgets/controls",
      "model_module_version": "2.0.0",
      "model_name": "ButtonModel",
      "state": {
       "button_style": "primary",
       "description": "Clear",
       "layout": "IPY_MODEL_203c5bda53884637807f88fa0b5c2a8e",
       "style": "IPY_MODEL_ea667c11ffa343eda0b335c6945997f7",
       "tooltip": null
      }
     },
     "df5db6520bbb4670af47706ce199cc4e": {
      "model_module": "@jupyter-widgets/base",
      "model_module_version": "2.0.0",
      "model_name": "LayoutModel",
      "state": {
       "width": "70px"
      }
     },
     "ea667c11ffa343eda0b335c6945997f7": {
      "model_module": "@jupyter-widgets/controls",
      "model_module_version": "2.0.0",
      "model_name": "ButtonStyleModel",
      "state": {
       "font_family": null,
       "font_size": null,
       "font_style": null,
       "font_variant": null,
       "font_weight": null,
       "text_color": null,
       "text_decoration": null
      }
     },
     "eebdcecce7a245198c3df2a576978abe": {
      "model_module": "@jupyter-widgets/base",
      "model_module_version": "2.0.0",
      "model_name": "LayoutModel",
      "state": {
       "width": "190px"
      }
     },
     "f83839f72b5d4d74903682d115d6d6ed": {
      "model_module": "@jupyter-widgets/controls",
      "model_module_version": "2.0.0",
      "model_name": "HTMLModel",
      "state": {
       "layout": "IPY_MODEL_eebdcecce7a245198c3df2a576978abe",
       "style": "IPY_MODEL_4bead04e665840ca8b820a5bc4271b86",
       "value": "<h5>Job ID</h5>"
      }
     }
    },
    "version_major": 2,
    "version_minor": 0
   }
  }
 },
 "nbformat": 4,
 "nbformat_minor": 5
}
